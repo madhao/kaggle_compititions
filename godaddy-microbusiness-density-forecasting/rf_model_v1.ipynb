{
 "cells": [
  {
   "cell_type": "code",
   "execution_count": 1,
   "id": "273b7072",
   "metadata": {
    "_kg_hide-input": true,
    "_kg_hide-output": true,
    "papermill": {
     "duration": 11.117686,
     "end_time": "2022-06-19T06:46:26.661531",
     "exception": false,
     "start_time": "2022-06-19T06:46:15.543845",
     "status": "completed"
    },
    "tags": []
   },
   "outputs": [
    {
     "name": "stdout",
     "output_type": "stream",
     "text": [
      "\u001b[33mWARNING: Running pip as the 'root' user can result in broken permissions and conflicting behaviour with the system package manager. It is recommended to use a virtual environment instead: https://pip.pypa.io/warnings/venv\u001b[0m\u001b[33m\n",
      "\u001b[0m"
     ]
    }
   ],
   "source": [
    "# install fastkaggle if not available\n",
    "try: import fastkaggle\n",
    "except ModuleNotFoundError:\n",
    "    !pip install -Uq fastkaggle\n",
    "\n",
    "from fastkaggle import *"
   ]
  },
  {
   "cell_type": "markdown",
   "id": "70a9db39",
   "metadata": {
    "papermill": {
     "duration": 0.007127,
     "end_time": "2022-06-19T06:46:26.707141",
     "exception": false,
     "start_time": "2022-06-19T06:46:26.700014",
     "status": "completed"
    },
    "tags": []
   },
   "source": [
    "## Getting set up"
   ]
  },
  {
   "cell_type": "code",
   "execution_count": 2,
   "id": "365b3837",
   "metadata": {
    "_kg_hide-output": true,
    "papermill": {
     "duration": 18.907053,
     "end_time": "2022-06-19T06:46:45.636399",
     "exception": false,
     "start_time": "2022-06-19T06:46:26.729346",
     "status": "completed"
    },
    "tags": []
   },
   "outputs": [],
   "source": [
    "comp = 'godaddy-microbusiness-density-forecasting'\n",
    "\n",
    "path = setup_comp(comp, install='fastai \"timm>=0.6.2.dev0\"')"
   ]
  },
  {
   "cell_type": "code",
   "execution_count": 3,
   "id": "bffccc9a",
   "metadata": {
    "papermill": {
     "duration": 0.019736,
     "end_time": "2022-06-19T06:46:45.664566",
     "exception": false,
     "start_time": "2022-06-19T06:46:45.644830",
     "status": "completed"
    },
    "tags": []
   },
   "outputs": [
    {
     "name": "stdout",
     "output_type": "stream",
     "text": [
      "census_starter.csv  sample_submission.csv  test.csv  train.csv\n"
     ]
    }
   ],
   "source": [
    "!ls godaddy-microbusiness-density-forecasting"
   ]
  },
  {
   "cell_type": "markdown",
   "id": "aa802ff1",
   "metadata": {
    "papermill": {
     "duration": 0.008063,
     "end_time": "2022-06-19T06:46:45.680826",
     "exception": false,
     "start_time": "2022-06-19T06:46:45.672763",
     "status": "completed"
    },
    "tags": []
   },
   "source": [
    "Now we can import the stuff we'll need from fastai, set a seed (for reproducibility -- just for the purposes of making this notebook easier to write; I don't recommend doing that in your own analysis however) and check what's in the data:"
   ]
  },
  {
   "cell_type": "code",
   "execution_count": 4,
   "id": "c135f314",
   "metadata": {
    "papermill": {
     "duration": 7.247365,
     "end_time": "2022-06-19T06:46:52.936430",
     "exception": false,
     "start_time": "2022-06-19T06:46:45.689065",
     "status": "completed"
    },
    "tags": []
   },
   "outputs": [],
   "source": [
    "from fastai.imports import *\n",
    "np.set_printoptions(linewidth=130)"
   ]
  },
  {
   "cell_type": "markdown",
   "id": "3ccfaffc",
   "metadata": {
    "papermill": {
     "duration": 0.013539,
     "end_time": "2022-06-19T06:46:52.964159",
     "exception": false,
     "start_time": "2022-06-19T06:46:52.950620",
     "status": "completed"
    },
    "tags": []
   },
   "source": [
    "## Looking at the data"
   ]
  },
  {
   "cell_type": "code",
   "execution_count": 5,
   "id": "e3259aa2-057d-4742-837f-72b327683788",
   "metadata": {},
   "outputs": [],
   "source": [
    "df = pd.read_csv(path/'train.csv')"
   ]
  },
  {
   "cell_type": "code",
   "execution_count": 6,
   "id": "8fdeed2a-d470-4ac8-ace9-2bb0c3a4f7d6",
   "metadata": {},
   "outputs": [],
   "source": [
    "df['first_day_of_month'] =  pd.to_datetime(df['first_day_of_month'])"
   ]
  },
  {
   "cell_type": "code",
   "execution_count": 7,
   "id": "5da62574-5345-4253-be90-b77a5290fa04",
   "metadata": {},
   "outputs": [],
   "source": [
    "df_state_info = df[['cfips','county','state']].set_index('cfips')"
   ]
  },
  {
   "cell_type": "code",
   "execution_count": 8,
   "id": "0bd1465c-e357-477b-827d-85bc3ddcf618",
   "metadata": {},
   "outputs": [],
   "source": [
    "df = df.drop(['county','state'],axis=1)"
   ]
  },
  {
   "cell_type": "code",
   "execution_count": 9,
   "id": "f463a5cb-971e-47ae-87b0-bcd8fb7023b8",
   "metadata": {},
   "outputs": [],
   "source": [
    "census = pd.read_csv(path/'census_starter.csv').set_index('cfips').join(df_state_info)"
   ]
  },
  {
   "cell_type": "markdown",
   "id": "a042e0be-95ba-4797-8fd7-35a929d4500a",
   "metadata": {},
   "source": [
    "## Feature engineering"
   ]
  },
  {
   "cell_type": "code",
   "execution_count": 10,
   "id": "e9c5bcaf-806a-40be-9e52-e6137bff3f0f",
   "metadata": {},
   "outputs": [],
   "source": [
    "dep='microbusiness_density'\n",
    "def xs_y(df):\n",
    "    # df[cats] = df[cats].apply(lambda x: x.cat.codes)\n",
    "    xs = df[set(df.columns)-set([dep])-set(cols_to_remove)].fillna(0)\n",
    "    return xs,df[dep] if dep in df else None\n",
    "\n",
    "# trn_xs,trn_y = xs_y(trn_df)\n",
    "# val_xs,val_y = xs_y(val_df)"
   ]
  },
  {
   "cell_type": "code",
   "execution_count": 11,
   "id": "b6dd55bb-7ec9-426a-b850-2cba4650865e",
   "metadata": {},
   "outputs": [],
   "source": [
    "def _select_cols(df):\n",
    "    ft_cols=['pct_college','pct_foreign_born','pct_it_workers_','first_day_of_month',dep,'county','state']\n",
    "    l = [[col for col in df.columns if col.startswith(pattern)] for pattern in ft_cols]\n",
    "    flat_list = [item for sublist in l for item in sublist]\n",
    "    return df[flat_list]\n",
    "\n",
    "def feature_engineering(df):\n",
    "    df = df.set_index('cfips')\n",
    "    df = df.join(census)\n",
    "    return df\n",
    "    # return _select_cols(df)\n",
    "\n",
    "\n",
    "\n",
    "df_ft = feature_engineering(df)\n",
    "# proc_data(tst_df)"
   ]
  },
  {
   "cell_type": "code",
   "execution_count": 12,
   "id": "fb7d854e-3d3a-42cd-9c36-12505a06047c",
   "metadata": {},
   "outputs": [
    {
     "data": {
      "text/html": [
       "<div>\n",
       "<style scoped>\n",
       "    .dataframe tbody tr th:only-of-type {\n",
       "        vertical-align: middle;\n",
       "    }\n",
       "\n",
       "    .dataframe tbody tr th {\n",
       "        vertical-align: top;\n",
       "    }\n",
       "\n",
       "    .dataframe thead th {\n",
       "        text-align: right;\n",
       "    }\n",
       "</style>\n",
       "<table border=\"1\" class=\"dataframe\">\n",
       "  <thead>\n",
       "    <tr style=\"text-align: right;\">\n",
       "      <th></th>\n",
       "      <th>row_id</th>\n",
       "      <th>cfips</th>\n",
       "      <th>first_day_of_month</th>\n",
       "      <th>microbusiness_density</th>\n",
       "      <th>active</th>\n",
       "    </tr>\n",
       "  </thead>\n",
       "  <tbody>\n",
       "    <tr>\n",
       "      <th>0</th>\n",
       "      <td>1001_2019-08-01</td>\n",
       "      <td>1001</td>\n",
       "      <td>2019-08-01</td>\n",
       "      <td>3.007682</td>\n",
       "      <td>1249</td>\n",
       "    </tr>\n",
       "    <tr>\n",
       "      <th>1</th>\n",
       "      <td>1001_2019-09-01</td>\n",
       "      <td>1001</td>\n",
       "      <td>2019-09-01</td>\n",
       "      <td>2.884870</td>\n",
       "      <td>1198</td>\n",
       "    </tr>\n",
       "  </tbody>\n",
       "</table>\n",
       "</div>"
      ],
      "text/plain": [
       "            row_id  cfips first_day_of_month  microbusiness_density  active\n",
       "0  1001_2019-08-01   1001         2019-08-01               3.007682    1249\n",
       "1  1001_2019-09-01   1001         2019-09-01               2.884870    1198"
      ]
     },
     "execution_count": 12,
     "metadata": {},
     "output_type": "execute_result"
    }
   ],
   "source": [
    "df.head(2)"
   ]
  },
  {
   "cell_type": "code",
   "execution_count": null,
   "id": "db80b5a0-bb06-4e82-88ab-a5a0bc2f0494",
   "metadata": {},
   "outputs": [],
   "source": [
    "_select_cols(df_ft)"
   ]
  },
  {
   "cell_type": "code",
   "execution_count": null,
   "id": "ae6adbf7-7794-49f7-b1b6-18d852e7ea1d",
   "metadata": {},
   "outputs": [],
   "source": [
    "df_ft[['first_day_of_month','microbusiness_density'\n",
    "]].head(5)"
   ]
  },
  {
   "cell_type": "code",
   "execution_count": null,
   "id": "a01373de-54ad-438b-8fe7-2e30939a06d6",
   "metadata": {},
   "outputs": [],
   "source": [
    "# m = DecisionTreeClassifier(min_samples_leaf=50)\n",
    "# m.fit(trn_xs, trn_y)\n",
    "# draw_tree(m, trn_xs, size=25)"
   ]
  },
  {
   "cell_type": "markdown",
   "id": "a76068b6",
   "metadata": {
    "papermill": {
     "duration": 0.01369,
     "end_time": "2022-06-19T06:48:08.965076",
     "exception": false,
     "start_time": "2022-06-19T06:48:08.951386",
     "status": "completed"
    },
    "tags": []
   },
   "source": [
    "## Our first model"
   ]
  },
  {
   "cell_type": "code",
   "execution_count": null,
   "id": "7470104a-3f3f-4034-b70a-7181868627d3",
   "metadata": {},
   "outputs": [],
   "source": [
    "df_ft.dtypes"
   ]
  },
  {
   "cell_type": "code",
   "execution_count": null,
   "id": "88b47fd3-19a4-4573-9035-b68f53d67eab",
   "metadata": {},
   "outputs": [],
   "source": [
    "test_set = list(df_ft.first_day_of_month.drop_duplicates().sort_values().tail(3))"
   ]
  },
  {
   "cell_type": "code",
   "execution_count": null,
   "id": "307441df-0ba4-4cd3-865e-b1f79857ea87",
   "metadata": {},
   "outputs": [],
   "source": [
    "from sklearn.model_selection import train_test_split\n",
    "# trn_df,val_df = train_test_split(df_ft, test_size=0.25)\n",
    "trn_df = df_ft[~df_ft.first_day_of_month.isin(test_set)].drop('first_day_of_month',axis=1)\n",
    "val_df = df_ft[df_ft.first_day_of_month.isin(test_set)].drop('first_day_of_month',axis=1)"
   ]
  },
  {
   "cell_type": "code",
   "execution_count": null,
   "id": "9d577358-27c3-4533-80e5-1e0451c36dd3",
   "metadata": {},
   "outputs": [],
   "source": [
    "trn_xs,trn_y = xs_y(trn_df)\n",
    "val_xs,val_y = xs_y(val_df)"
   ]
  },
  {
   "cell_type": "code",
   "execution_count": null,
   "id": "73daa504-38fa-4105-83b1-088b26b71b00",
   "metadata": {},
   "outputs": [],
   "source": [
    "trn_y.head(5)"
   ]
  },
  {
   "cell_type": "code",
   "execution_count": null,
   "id": "f3a8cca1-852e-42b6-b6e9-d23dca150a03",
   "metadata": {},
   "outputs": [],
   "source": [
    "trn_xs.head(5)"
   ]
  },
  {
   "cell_type": "code",
   "execution_count": null,
   "id": "d3e22871-0047-4378-8fb1-5bfe9fd884b8",
   "metadata": {},
   "outputs": [],
   "source": [
    "from sklearn.ensemble import RandomForestRegressor\n",
    "\n",
    "rf = RandomForestRegressor(100, min_samples_leaf=5)\n",
    "rf.fit(trn_xs, trn_y);"
   ]
  },
  {
   "cell_type": "code",
   "execution_count": null,
   "id": "1aa323b4-bf07-47c4-bd03-2c8fdfacdb31",
   "metadata": {},
   "outputs": [],
   "source": [
    "def calculate_smape(actual, predicted) -> float:\n",
    "  \n",
    "    # Convert actual and predicted to numpy\n",
    "    # array data type if not already\n",
    "    actual = np.array(actual)\n",
    "    predicted = np.array(predicted)\n",
    "  \n",
    "    return round(\n",
    "        np.mean(\n",
    "            np.abs(predicted - actual) / \n",
    "            ((np.abs(predicted) + np.abs(actual))/2)\n",
    "        )*100, 2\n",
    "    )"
   ]
  },
  {
   "cell_type": "code",
   "execution_count": null,
   "id": "d7a67766-9966-4a72-958e-98d71d899cb1",
   "metadata": {},
   "outputs": [],
   "source": [
    "from sklearn.metrics import mean_absolute_error,mean_absolute_percentage_error\n",
    "print(mean_absolute_error(val_y, rf.predict(val_xs)))\n",
    "print(calculate_smape(val_y, rf.predict(val_xs)))"
   ]
  },
  {
   "cell_type": "code",
   "execution_count": null,
   "id": "494d41c1-3690-4d5d-90fb-b3752b5465b0",
   "metadata": {},
   "outputs": [],
   "source": [
    "pd.DataFrame(dict(cols=trn_xs.columns, imp=rf.feature_importances_)).sort_values('imp')"
   ]
  },
  {
   "cell_type": "code",
   "execution_count": null,
   "id": "9e4a7e7a-eb0f-4509-aa6d-49b4781d36d6",
   "metadata": {},
   "outputs": [],
   "source": [
    "pd.DataFrame(dict(cols=trn_xs.columns, imp=rf.feature_importances_)).plot('cols', 'imp', 'barh');"
   ]
  },
  {
   "cell_type": "markdown",
   "id": "2837981e",
   "metadata": {
    "papermill": {
     "duration": 0.014492,
     "end_time": "2022-06-19T06:56:20.889432",
     "exception": false,
     "start_time": "2022-06-19T06:56:20.874940",
     "status": "completed"
    },
    "tags": []
   },
   "source": [
    "## Submitting to Kaggle"
   ]
  },
  {
   "cell_type": "code",
   "execution_count": null,
   "id": "491aba35",
   "metadata": {
    "papermill": {
     "duration": 0.044652,
     "end_time": "2022-06-19T06:56:20.948985",
     "exception": false,
     "start_time": "2022-06-19T06:56:20.904333",
     "status": "completed"
    },
    "tags": []
   },
   "outputs": [],
   "source": [
    "test_df = pd.read_csv(path/'test.csv')"
   ]
  },
  {
   "cell_type": "code",
   "execution_count": null,
   "id": "c84e1642-eba9-458e-96f1-df60a340b445",
   "metadata": {},
   "outputs": [],
   "source": [
    "test_df"
   ]
  },
  {
   "cell_type": "code",
   "execution_count": null,
   "id": "f268bb18-0f9a-4590-8a1d-97c221180c16",
   "metadata": {},
   "outputs": [],
   "source": [
    "test_df_ft = feature_engineering(test_df).drop('first_day_of_month',axis=1)"
   ]
  },
  {
   "cell_type": "code",
   "execution_count": null,
   "id": "fd9db041-7582-4bef-a295-d2d833402693",
   "metadata": {},
   "outputs": [],
   "source": [
    "test_xs = xs_y(test_df_ft)[0]"
   ]
  },
  {
   "cell_type": "code",
   "execution_count": null,
   "id": "874f3526-c911-430d-901b-7f452103f9b3",
   "metadata": {},
   "outputs": [],
   "source": [
    "test_xs"
   ]
  },
  {
   "cell_type": "code",
   "execution_count": null,
   "id": "46a5c327-5da3-417b-8128-fcdd7f89379f",
   "metadata": {},
   "outputs": [],
   "source": [
    "test_df['microbusiness_density'] = rf.predict(test_xs)"
   ]
  },
  {
   "cell_type": "code",
   "execution_count": null,
   "id": "b9883021-4d47-4151-b6ef-8feec49a6d6d",
   "metadata": {},
   "outputs": [],
   "source": [
    "result = test_df[['row_id','microbusiness_density']]"
   ]
  },
  {
   "cell_type": "code",
   "execution_count": null,
   "id": "7c07e393",
   "metadata": {
    "papermill": {
     "duration": 0.734036,
     "end_time": "2022-06-19T06:56:59.132667",
     "exception": false,
     "start_time": "2022-06-19T06:56:58.398631",
     "status": "completed"
    },
    "tags": []
   },
   "outputs": [],
   "source": [
    "result.to_csv('subm.csv', index=False)\n",
    "!head subm.csv"
   ]
  },
  {
   "cell_type": "markdown",
   "id": "a2808f38",
   "metadata": {
    "papermill": {
     "duration": 0.01679,
     "end_time": "2022-06-19T06:56:59.167061",
     "exception": false,
     "start_time": "2022-06-19T06:56:59.150271",
     "status": "completed"
    },
    "tags": []
   },
   "source": [
    "Let's submit this to kaggle. We can do it from the notebook if we're running on Kaggle, otherwise we can use the API:"
   ]
  },
  {
   "cell_type": "code",
   "execution_count": null,
   "id": "25d822f6",
   "metadata": {
    "papermill": {
     "duration": 0.024997,
     "end_time": "2022-06-19T06:56:59.208125",
     "exception": false,
     "start_time": "2022-06-19T06:56:59.183128",
     "status": "completed"
    },
    "tags": []
   },
   "outputs": [],
   "source": [
    "if not iskaggle:\n",
    "    from kaggle import api\n",
    "    api.competition_submit_cli('subm.csv', 'updated model', comp)"
   ]
  },
  {
   "cell_type": "markdown",
   "id": "bfe066cd",
   "metadata": {
    "papermill": {
     "duration": 0.016558,
     "end_time": "2022-06-19T06:56:59.241385",
     "exception": false,
     "start_time": "2022-06-19T06:56:59.224827",
     "status": "completed"
    },
    "tags": []
   },
   "source": [
    "Success! We successfully created a submission."
   ]
  },
  {
   "cell_type": "markdown",
   "id": "289d4ad8",
   "metadata": {
    "papermill": {
     "duration": 0.015795,
     "end_time": "2022-06-19T06:56:59.273210",
     "exception": false,
     "start_time": "2022-06-19T06:56:59.257415",
     "status": "completed"
    },
    "tags": []
   },
   "source": [
    "## Conclusion"
   ]
  },
  {
   "cell_type": "markdown",
   "id": "b5a1381c",
   "metadata": {
    "papermill": {
     "duration": 0.015885,
     "end_time": "2022-06-19T06:56:59.338081",
     "exception": false,
     "start_time": "2022-06-19T06:56:59.322196",
     "status": "completed"
    },
    "tags": []
   },
   "source": [
    "## Addendum"
   ]
  },
  {
   "cell_type": "markdown",
   "id": "becb4e7e",
   "metadata": {
    "papermill": {
     "duration": 0.016134,
     "end_time": "2022-06-19T06:56:59.370344",
     "exception": false,
     "start_time": "2022-06-19T06:56:59.354210",
     "status": "completed"
    },
    "tags": []
   },
   "source": [
    "`fastkaggle` also provides a function that pushes a notebook to Kaggle Notebooks. I wrote this notebook on my own machine, and pushed it to Kaggle from there -- here's the command I used:"
   ]
  },
  {
   "cell_type": "code",
   "execution_count": null,
   "id": "8b4ecc28",
   "metadata": {
    "papermill": {
     "duration": 0.024203,
     "end_time": "2022-06-19T06:56:59.411272",
     "exception": false,
     "start_time": "2022-06-19T06:56:59.387069",
     "status": "completed"
    },
    "tags": []
   },
   "outputs": [],
   "source": [
    "if not iskaggle:\n",
    "    push_notebook('madhaowagh', 'rf model updated',\n",
    "                  title='starter notebook ',\n",
    "                  file='rf_model_v1.ipynb',\n",
    "                  competition=comp, private=False, gpu=False)"
   ]
  },
  {
   "cell_type": "code",
   "execution_count": null,
   "id": "37d70d62",
   "metadata": {
    "papermill": {
     "duration": 0.015981,
     "end_time": "2022-06-19T06:56:59.444216",
     "exception": false,
     "start_time": "2022-06-19T06:56:59.428235",
     "status": "completed"
    },
    "tags": []
   },
   "outputs": [],
   "source": []
  }
 ],
 "metadata": {
  "kernelspec": {
   "display_name": "Python 3 (ipykernel)",
   "language": "python",
   "name": "python3"
  },
  "language_info": {
   "codemirror_mode": {
    "name": "ipython",
    "version": 3
   },
   "file_extension": ".py",
   "mimetype": "text/x-python",
   "name": "python",
   "nbconvert_exporter": "python",
   "pygments_lexer": "ipython3",
   "version": "3.9.13"
  },
  "papermill": {
   "default_parameters": {},
   "duration": 655.577164,
   "end_time": "2022-06-19T06:57:03.150817",
   "environment_variables": {},
   "exception": null,
   "input_path": "__notebook__.ipynb",
   "output_path": "__notebook__.ipynb",
   "parameters": {},
   "start_time": "2022-06-19T06:46:07.573653",
   "version": "2.3.4"
  }
 },
 "nbformat": 4,
 "nbformat_minor": 5
}
