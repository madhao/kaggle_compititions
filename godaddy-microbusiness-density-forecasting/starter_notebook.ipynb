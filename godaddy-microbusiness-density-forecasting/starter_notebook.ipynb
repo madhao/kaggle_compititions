{
 "cells": [
  {
   "cell_type": "code",
   "execution_count": 1,
   "id": "273b7072",
   "metadata": {
    "_kg_hide-input": true,
    "_kg_hide-output": true,
    "papermill": {
     "duration": 11.117686,
     "end_time": "2022-06-19T06:46:26.661531",
     "exception": false,
     "start_time": "2022-06-19T06:46:15.543845",
     "status": "completed"
    },
    "tags": []
   },
   "outputs": [
    {
     "name": "stdout",
     "output_type": "stream",
     "text": [
      "\u001b[33mWARNING: Running pip as the 'root' user can result in broken permissions and conflicting behaviour with the system package manager. It is recommended to use a virtual environment instead: https://pip.pypa.io/warnings/venv\u001b[0m\u001b[33m\n",
      "\u001b[0m"
     ]
    }
   ],
   "source": [
    "# install fastkaggle if not available\n",
    "try: import fastkaggle\n",
    "except ModuleNotFoundError:\n",
    "    !pip install -Uq fastkaggle\n",
    "\n",
    "from fastkaggle import *"
   ]
  },
  {
   "cell_type": "markdown",
   "id": "70a9db39",
   "metadata": {
    "papermill": {
     "duration": 0.007127,
     "end_time": "2022-06-19T06:46:26.707141",
     "exception": false,
     "start_time": "2022-06-19T06:46:26.700014",
     "status": "completed"
    },
    "tags": []
   },
   "source": [
    "## Getting set up"
   ]
  },
  {
   "cell_type": "code",
   "execution_count": 2,
   "id": "365b3837",
   "metadata": {
    "_kg_hide-output": true,
    "papermill": {
     "duration": 18.907053,
     "end_time": "2022-06-19T06:46:45.636399",
     "exception": false,
     "start_time": "2022-06-19T06:46:26.729346",
     "status": "completed"
    },
    "tags": []
   },
   "outputs": [],
   "source": [
    "comp = 'godaddy-microbusiness-density-forecasting'\n",
    "\n",
    "path = setup_comp(comp, install='fastai \"timm>=0.6.2.dev0\"')"
   ]
  },
  {
   "cell_type": "code",
   "execution_count": 3,
   "id": "bffccc9a",
   "metadata": {
    "papermill": {
     "duration": 0.019736,
     "end_time": "2022-06-19T06:46:45.664566",
     "exception": false,
     "start_time": "2022-06-19T06:46:45.644830",
     "status": "completed"
    },
    "tags": []
   },
   "outputs": [
    {
     "name": "stdout",
     "output_type": "stream",
     "text": [
      "census_starter.csv  sample_submission.csv  test.csv  train.csv\n"
     ]
    }
   ],
   "source": [
    "!ls godaddy-microbusiness-density-forecasting"
   ]
  },
  {
   "cell_type": "markdown",
   "id": "aa802ff1",
   "metadata": {
    "papermill": {
     "duration": 0.008063,
     "end_time": "2022-06-19T06:46:45.680826",
     "exception": false,
     "start_time": "2022-06-19T06:46:45.672763",
     "status": "completed"
    },
    "tags": []
   },
   "source": [
    "Now we can import the stuff we'll need from fastai, set a seed (for reproducibility -- just for the purposes of making this notebook easier to write; I don't recommend doing that in your own analysis however) and check what's in the data:"
   ]
  },
  {
   "cell_type": "code",
   "execution_count": 4,
   "id": "c135f314",
   "metadata": {
    "papermill": {
     "duration": 7.247365,
     "end_time": "2022-06-19T06:46:52.936430",
     "exception": false,
     "start_time": "2022-06-19T06:46:45.689065",
     "status": "completed"
    },
    "tags": []
   },
   "outputs": [],
   "source": [
    "from fastai.imports import *\n",
    "np.set_printoptions(linewidth=130)"
   ]
  },
  {
   "cell_type": "markdown",
   "id": "3ccfaffc",
   "metadata": {
    "papermill": {
     "duration": 0.013539,
     "end_time": "2022-06-19T06:46:52.964159",
     "exception": false,
     "start_time": "2022-06-19T06:46:52.950620",
     "status": "completed"
    },
    "tags": []
   },
   "source": [
    "## Looking at the data"
   ]
  },
  {
   "cell_type": "code",
   "execution_count": 5,
   "id": "e3259aa2-057d-4742-837f-72b327683788",
   "metadata": {},
   "outputs": [],
   "source": [
    "df = pd.read_csv(path/'train.csv')"
   ]
  },
  {
   "cell_type": "code",
   "execution_count": 6,
   "id": "ab69d422-5ff9-4192-bf4a-530d6aeadbf5",
   "metadata": {},
   "outputs": [
    {
     "data": {
      "text/html": [
       "<div>\n",
       "<style scoped>\n",
       "    .dataframe tbody tr th:only-of-type {\n",
       "        vertical-align: middle;\n",
       "    }\n",
       "\n",
       "    .dataframe tbody tr th {\n",
       "        vertical-align: top;\n",
       "    }\n",
       "\n",
       "    .dataframe thead th {\n",
       "        text-align: right;\n",
       "    }\n",
       "</style>\n",
       "<table border=\"1\" class=\"dataframe\">\n",
       "  <thead>\n",
       "    <tr style=\"text-align: right;\">\n",
       "      <th></th>\n",
       "      <th>row_id</th>\n",
       "      <th>cfips</th>\n",
       "      <th>county</th>\n",
       "      <th>state</th>\n",
       "      <th>first_day_of_month</th>\n",
       "      <th>microbusiness_density</th>\n",
       "      <th>active</th>\n",
       "    </tr>\n",
       "  </thead>\n",
       "  <tbody>\n",
       "    <tr>\n",
       "      <th>0</th>\n",
       "      <td>1001_2019-08-01</td>\n",
       "      <td>1001</td>\n",
       "      <td>Autauga County</td>\n",
       "      <td>Alabama</td>\n",
       "      <td>2019-08-01</td>\n",
       "      <td>3.007682</td>\n",
       "      <td>1249</td>\n",
       "    </tr>\n",
       "    <tr>\n",
       "      <th>1</th>\n",
       "      <td>1001_2019-09-01</td>\n",
       "      <td>1001</td>\n",
       "      <td>Autauga County</td>\n",
       "      <td>Alabama</td>\n",
       "      <td>2019-09-01</td>\n",
       "      <td>2.884870</td>\n",
       "      <td>1198</td>\n",
       "    </tr>\n",
       "    <tr>\n",
       "      <th>2</th>\n",
       "      <td>1001_2019-10-01</td>\n",
       "      <td>1001</td>\n",
       "      <td>Autauga County</td>\n",
       "      <td>Alabama</td>\n",
       "      <td>2019-10-01</td>\n",
       "      <td>3.055843</td>\n",
       "      <td>1269</td>\n",
       "    </tr>\n",
       "    <tr>\n",
       "      <th>3</th>\n",
       "      <td>1001_2019-11-01</td>\n",
       "      <td>1001</td>\n",
       "      <td>Autauga County</td>\n",
       "      <td>Alabama</td>\n",
       "      <td>2019-11-01</td>\n",
       "      <td>2.993233</td>\n",
       "      <td>1243</td>\n",
       "    </tr>\n",
       "    <tr>\n",
       "      <th>4</th>\n",
       "      <td>1001_2019-12-01</td>\n",
       "      <td>1001</td>\n",
       "      <td>Autauga County</td>\n",
       "      <td>Alabama</td>\n",
       "      <td>2019-12-01</td>\n",
       "      <td>2.993233</td>\n",
       "      <td>1243</td>\n",
       "    </tr>\n",
       "  </tbody>\n",
       "</table>\n",
       "</div>"
      ],
      "text/plain": [
       "            row_id  cfips          county    state first_day_of_month  \\\n",
       "0  1001_2019-08-01   1001  Autauga County  Alabama         2019-08-01   \n",
       "1  1001_2019-09-01   1001  Autauga County  Alabama         2019-09-01   \n",
       "2  1001_2019-10-01   1001  Autauga County  Alabama         2019-10-01   \n",
       "3  1001_2019-11-01   1001  Autauga County  Alabama         2019-11-01   \n",
       "4  1001_2019-12-01   1001  Autauga County  Alabama         2019-12-01   \n",
       "\n",
       "   microbusiness_density  active  \n",
       "0               3.007682    1249  \n",
       "1               2.884870    1198  \n",
       "2               3.055843    1269  \n",
       "3               2.993233    1243  \n",
       "4               2.993233    1243  "
      ]
     },
     "execution_count": 6,
     "metadata": {},
     "output_type": "execute_result"
    }
   ],
   "source": [
    "df.head(5)"
   ]
  },
  {
   "cell_type": "code",
   "execution_count": 31,
   "id": "d29145f6-6290-48c7-b49b-9e7e53827f02",
   "metadata": {},
   "outputs": [],
   "source": [
    "cats=['county','state']\n",
    "conts=['active']\n",
    "dep='microbusiness_density'\n",
    "def xs_y(df):\n",
    "    df[cats] = df[cats].apply(lambda x: x.cat.codes)\n",
    "    xs = df[cats+conts].copy()\n",
    "    return xs,df[dep] if dep in df else None\n",
    "\n",
    "# trn_xs,trn_y = xs_y(trn_df)\n",
    "# val_xs,val_y = xs_y(val_df)"
   ]
  },
  {
   "cell_type": "code",
   "execution_count": 8,
   "id": "2ac50459-24e2-48b4-bf5e-f6a22b7a8390",
   "metadata": {},
   "outputs": [
    {
     "data": {
      "text/plain": [
       "1871"
      ]
     },
     "execution_count": 8,
     "metadata": {},
     "output_type": "execute_result"
    }
   ],
   "source": [
    "df.county.nunique()"
   ]
  },
  {
   "cell_type": "code",
   "execution_count": 9,
   "id": "a345a235-1af9-4a44-b5c8-2bb83ddab784",
   "metadata": {},
   "outputs": [
    {
     "data": {
      "text/plain": [
       "51"
      ]
     },
     "execution_count": 9,
     "metadata": {},
     "output_type": "execute_result"
    }
   ],
   "source": [
    "df.state.nunique()"
   ]
  },
  {
   "cell_type": "code",
   "execution_count": 10,
   "id": "1b5ec3ad-e644-458d-a67f-73aa97192587",
   "metadata": {},
   "outputs": [
    {
     "data": {
      "text/plain": [
       "61.470588235294116"
      ]
     },
     "execution_count": 10,
     "metadata": {},
     "output_type": "execute_result"
    }
   ],
   "source": [
    "df.groupby('state').cfips.nunique().mean()"
   ]
  },
  {
   "cell_type": "code",
   "execution_count": 11,
   "id": "5ad6b06d-6bcc-4926-ac4d-f7ec3df1c02b",
   "metadata": {},
   "outputs": [
    {
     "name": "stdout",
     "output_type": "stream",
     "text": [
      "mean: 1.0\n",
      "min: 1\n",
      "max: 1\n"
     ]
    }
   ],
   "source": [
    "print('mean:',df.groupby(['county','state']).cfips.nunique().mean())\n",
    "print('min:',df.groupby(['county','state']).cfips.nunique().min())\n",
    "print('max:',df.groupby(['county','state']).cfips.nunique().max())"
   ]
  },
  {
   "cell_type": "markdown",
   "id": "c79a7e6d-0a99-4e4a-a1c1-b72ad67d7422",
   "metadata": {},
   "source": [
    "This data is county level, cfips code is just a join key"
   ]
  },
  {
   "cell_type": "code",
   "execution_count": 12,
   "id": "316de474-92ed-4917-a061-63a94b6f06af",
   "metadata": {},
   "outputs": [
    {
     "data": {
      "text/plain": [
       "1"
      ]
     },
     "execution_count": 12,
     "metadata": {},
     "output_type": "execute_result"
    }
   ],
   "source": [
    "df.groupby(['state','county','first_day_of_month']).cfips.count().sort_values(ascending=False).min()"
   ]
  },
  {
   "cell_type": "markdown",
   "id": "a042e0be-95ba-4797-8fd7-35a929d4500a",
   "metadata": {},
   "source": [
    "## Feature engineering"
   ]
  },
  {
   "cell_type": "code",
   "execution_count": 15,
   "id": "b6dd55bb-7ec9-426a-b850-2cba4650865e",
   "metadata": {},
   "outputs": [],
   "source": [
    "def feature_engineering(df):\n",
    "    df.first_day_of_month = pd.to_datetime(df.first_day_of_month)\n",
    "    df['month'] = df.first_day_of_month.dt.month\n",
    "    df['year'] = df.first_day_of_month.dt.year\n",
    "    df['yyyymm'] = df.first_day_of_month.dt.year*100 + df.first_day_of_month.dt.month\n",
    "    df.county = pd.Categorical(df.county)\n",
    "    df.state = pd.Categorical(df.state)\n",
    "\n",
    "feature_engineering(df)\n",
    "# proc_data(tst_df)"
   ]
  },
  {
   "cell_type": "code",
   "execution_count": 16,
   "id": "7e1ffe07-d1ad-4017-ad1c-de446cc513ac",
   "metadata": {},
   "outputs": [
    {
     "name": "stdout",
     "output_type": "stream",
     "text": [
      "0.05 percentile: 0.81756973\n",
      "0.95 percentile: 10.553019999999998\n"
     ]
    },
    {
     "data": {
      "image/png": "[encoded data removed]",
      "text/plain": [
       "<Figure size 792x360 with 2 Axes>"
      ]
     },
     "metadata": {
      "needs_background": "light"
     },
     "output_type": "display_data"
    }
   ],
   "source": [
    "# remove outliers and plot\n",
    "import seaborn as sns\n",
    "fig,axs = plt.subplots(1,2, figsize=(11,5))\n",
    "col = 'microbusiness_density'\n",
    "min = 0.05\n",
    "max = 0.95\n",
    "df2 = df[(df[col]>df[col].quantile(q=min))&(df[col]<df[col].quantile(q=max))]\n",
    "print('{} percentile: {}'.format(min,df[col].quantile(q=min)))\n",
    "print('{} percentile: {}'.format(max,df[col].quantile(q=max)))\n",
    "df2[col].hist(ax=axs[0])\n",
    "sns.boxplot( y=df2[col], ax=axs[1]);"
   ]
  },
  {
   "cell_type": "code",
   "execution_count": 17,
   "id": "5eac2b48-c1f4-4da2-90e6-feb3fc4532ca",
   "metadata": {},
   "outputs": [
    {
     "name": "stdout",
     "output_type": "stream",
     "text": [
      "0.05 percentile: 35.0\n",
      "0.9 percentile: 10380.200000000012\n"
     ]
    },
    {
     "data": {
      "image/png": "[encoded data removed]",
      "text/plain": [
       "<Figure size 792x360 with 2 Axes>"
      ]
     },
     "metadata": {
      "needs_background": "light"
     },
     "output_type": "display_data"
    }
   ],
   "source": [
    "# remove outliers and plot\n",
    "import seaborn as sns\n",
    "fig,axs = plt.subplots(1,2, figsize=(11,5))\n",
    "col = 'active'\n",
    "min = 0.05\n",
    "max = 0.90\n",
    "df2 = df[(df[col]>df[col].quantile(q=min))&(df[col]<df[col].quantile(q=max))]\n",
    "print('{} percentile: {}'.format(min,df[col].quantile(q=min)))\n",
    "print('{} percentile: {}'.format(max,df[col].quantile(q=max)))\n",
    "df2[col].hist(ax=axs[0])\n",
    "sns.boxplot( y=df2[col], ax=axs[1]);"
   ]
  },
  {
   "cell_type": "code",
   "execution_count": 18,
   "id": "a01373de-54ad-438b-8fe7-2e30939a06d6",
   "metadata": {},
   "outputs": [],
   "source": [
    "# m = DecisionTreeClassifier(min_samples_leaf=50)\n",
    "# m.fit(trn_xs, trn_y)\n",
    "# draw_tree(m, trn_xs, size=25)"
   ]
  },
  {
   "cell_type": "markdown",
   "id": "a76068b6",
   "metadata": {
    "papermill": {
     "duration": 0.01369,
     "end_time": "2022-06-19T06:48:08.965076",
     "exception": false,
     "start_time": "2022-06-19T06:48:08.951386",
     "status": "completed"
    },
    "tags": []
   },
   "source": [
    "## Our first model"
   ]
  },
  {
   "cell_type": "code",
   "execution_count": 32,
   "id": "307441df-0ba4-4cd3-865e-b1f79857ea87",
   "metadata": {},
   "outputs": [],
   "source": [
    "from sklearn.model_selection import train_test_split\n",
    "trn_df,val_df = train_test_split(df, test_size=0.25)"
   ]
  },
  {
   "cell_type": "code",
   "execution_count": 33,
   "id": "9d577358-27c3-4533-80e5-1e0451c36dd3",
   "metadata": {},
   "outputs": [],
   "source": [
    "trn_xs,trn_y = xs_y(trn_df)\n",
    "val_xs,val_y = xs_y(val_df)"
   ]
  },
  {
   "cell_type": "code",
   "execution_count": 35,
   "id": "c8e52b8d-7446-4cc4-b840-2dce2217eec4",
   "metadata": {},
   "outputs": [
    {
     "data": {
      "text/plain": [
       "94055     1348\n",
       "105203    1220\n",
       "114680    1593\n",
       "120712    1568\n",
       "17299      599\n",
       "          ... \n",
       "2507      1769\n",
       "43756      246\n",
       "32335      735\n",
       "38867      113\n",
       "81378      997\n",
       "Name: county, Length: 91698, dtype: int16"
      ]
     },
     "execution_count": 35,
     "metadata": {},
     "output_type": "execute_result"
    }
   ],
   "source": [
    "trn_xs.county"
   ]
  },
  {
   "cell_type": "code",
   "execution_count": 39,
   "id": "d3e22871-0047-4378-8fb1-5bfe9fd884b8",
   "metadata": {},
   "outputs": [
    {
     "data": {
      "text/plain": [
       "0.15978394026889498"
      ]
     },
     "execution_count": 39,
     "metadata": {},
     "output_type": "execute_result"
    }
   ],
   "source": [
    "from sklearn.ensemble import RandomForestRegressor\n",
    "\n",
    "rf = RandomForestRegressor(100, min_samples_leaf=5)\n",
    "rf.fit(trn_xs, trn_y);"
   ]
  },
  {
   "cell_type": "code",
   "execution_count": 47,
   "id": "1aa323b4-bf07-47c4-bd03-2c8fdfacdb31",
   "metadata": {},
   "outputs": [],
   "source": [
    "def calculate_smape(actual, predicted) -> float:\n",
    "  \n",
    "    # Convert actual and predicted to numpy\n",
    "    # array data type if not already\n",
    "    actual = np.array(actual)\n",
    "    predicted = np.array(predicted)\n",
    "  \n",
    "    return round(\n",
    "        np.mean(\n",
    "            np.abs(predicted - actual) / \n",
    "            ((np.abs(predicted) + np.abs(actual))/2)\n",
    "        )*100, 2\n",
    "    )"
   ]
  },
  {
   "cell_type": "code",
   "execution_count": 49,
   "id": "d7a67766-9966-4a72-958e-98d71d899cb1",
   "metadata": {},
   "outputs": [
    {
     "name": "stdout",
     "output_type": "stream",
     "text": [
      "0.15978394026889498\n",
      "3.43\n"
     ]
    }
   ],
   "source": [
    "from sklearn.metrics import mean_absolute_error,mean_absolute_percentage_error\n",
    "print(mean_absolute_error(val_y, rf.predict(val_xs)))\n",
    "print(calculate_smape(val_y, rf.predict(val_xs)))"
   ]
  },
  {
   "cell_type": "code",
   "execution_count": 41,
   "id": "9e4a7e7a-eb0f-4509-aa6d-49b4781d36d6",
   "metadata": {},
   "outputs": [
    {
     "data": {
      "image/png": "[encoded data removed]",
      "text/plain": [
       "<Figure size 432x288 with 1 Axes>"
      ]
     },
     "metadata": {
      "needs_background": "light"
     },
     "output_type": "display_data"
    }
   ],
   "source": [
    "pd.DataFrame(dict(cols=trn_xs.columns, imp=rf.feature_importances_)).plot('cols', 'imp', 'barh');"
   ]
  },
  {
   "cell_type": "markdown",
   "id": "2837981e",
   "metadata": {
    "papermill": {
     "duration": 0.014492,
     "end_time": "2022-06-19T06:56:20.889432",
     "exception": false,
     "start_time": "2022-06-19T06:56:20.874940",
     "status": "completed"
    },
    "tags": []
   },
   "source": [
    "## Submitting to Kaggle"
   ]
  },
  {
   "cell_type": "code",
   "execution_count": 52,
   "id": "491aba35",
   "metadata": {
    "papermill": {
     "duration": 0.044652,
     "end_time": "2022-06-19T06:56:20.948985",
     "exception": false,
     "start_time": "2022-06-19T06:56:20.904333",
     "status": "completed"
    },
    "tags": []
   },
   "outputs": [
    {
     "data": {
      "text/html": [
       "<div>\n",
       "<style scoped>\n",
       "    .dataframe tbody tr th:only-of-type {\n",
       "        vertical-align: middle;\n",
       "    }\n",
       "\n",
       "    .dataframe tbody tr th {\n",
       "        vertical-align: top;\n",
       "    }\n",
       "\n",
       "    .dataframe thead th {\n",
       "        text-align: right;\n",
       "    }\n",
       "</style>\n",
       "<table border=\"1\" class=\"dataframe\">\n",
       "  <thead>\n",
       "    <tr style=\"text-align: right;\">\n",
       "      <th></th>\n",
       "      <th>row_id</th>\n",
       "      <th>cfips</th>\n",
       "      <th>first_day_of_month</th>\n",
       "    </tr>\n",
       "  </thead>\n",
       "  <tbody>\n",
       "    <tr>\n",
       "      <th>0</th>\n",
       "      <td>1001_2022-11-01</td>\n",
       "      <td>1001</td>\n",
       "      <td>2022-11-01</td>\n",
       "    </tr>\n",
       "    <tr>\n",
       "      <th>1</th>\n",
       "      <td>1003_2022-11-01</td>\n",
       "      <td>1003</td>\n",
       "      <td>2022-11-01</td>\n",
       "    </tr>\n",
       "    <tr>\n",
       "      <th>2</th>\n",
       "      <td>1005_2022-11-01</td>\n",
       "      <td>1005</td>\n",
       "      <td>2022-11-01</td>\n",
       "    </tr>\n",
       "    <tr>\n",
       "      <th>3</th>\n",
       "      <td>1007_2022-11-01</td>\n",
       "      <td>1007</td>\n",
       "      <td>2022-11-01</td>\n",
       "    </tr>\n",
       "    <tr>\n",
       "      <th>4</th>\n",
       "      <td>1009_2022-11-01</td>\n",
       "      <td>1009</td>\n",
       "      <td>2022-11-01</td>\n",
       "    </tr>\n",
       "    <tr>\n",
       "      <th>...</th>\n",
       "      <td>...</td>\n",
       "      <td>...</td>\n",
       "      <td>...</td>\n",
       "    </tr>\n",
       "    <tr>\n",
       "      <th>25075</th>\n",
       "      <td>56037_2023-06-01</td>\n",
       "      <td>56037</td>\n",
       "      <td>2023-06-01</td>\n",
       "    </tr>\n",
       "    <tr>\n",
       "      <th>25076</th>\n",
       "      <td>56039_2023-06-01</td>\n",
       "      <td>56039</td>\n",
       "      <td>2023-06-01</td>\n",
       "    </tr>\n",
       "    <tr>\n",
       "      <th>25077</th>\n",
       "      <td>56041_2023-06-01</td>\n",
       "      <td>56041</td>\n",
       "      <td>2023-06-01</td>\n",
       "    </tr>\n",
       "    <tr>\n",
       "      <th>25078</th>\n",
       "      <td>56043_2023-06-01</td>\n",
       "      <td>56043</td>\n",
       "      <td>2023-06-01</td>\n",
       "    </tr>\n",
       "    <tr>\n",
       "      <th>25079</th>\n",
       "      <td>56045_2023-06-01</td>\n",
       "      <td>56045</td>\n",
       "      <td>2023-06-01</td>\n",
       "    </tr>\n",
       "  </tbody>\n",
       "</table>\n",
       "<p>25080 rows × 3 columns</p>\n",
       "</div>"
      ],
      "text/plain": [
       "                 row_id  cfips first_day_of_month\n",
       "0       1001_2022-11-01   1001         2022-11-01\n",
       "1       1003_2022-11-01   1003         2022-11-01\n",
       "2       1005_2022-11-01   1005         2022-11-01\n",
       "3       1007_2022-11-01   1007         2022-11-01\n",
       "4       1009_2022-11-01   1009         2022-11-01\n",
       "...                 ...    ...                ...\n",
       "25075  56037_2023-06-01  56037         2023-06-01\n",
       "25076  56039_2023-06-01  56039         2023-06-01\n",
       "25077  56041_2023-06-01  56041         2023-06-01\n",
       "25078  56043_2023-06-01  56043         2023-06-01\n",
       "25079  56045_2023-06-01  56045         2023-06-01\n",
       "\n",
       "[25080 rows x 3 columns]"
      ]
     },
     "execution_count": 52,
     "metadata": {},
     "output_type": "execute_result"
    }
   ],
   "source": [
    "test_df = pd.read_csv(path/'test.csv')\n",
    "test_df"
   ]
  },
  {
   "cell_type": "code",
   "execution_count": 53,
   "id": "f268bb18-0f9a-4590-8a1d-97c221180c16",
   "metadata": {},
   "outputs": [
    {
     "ename": "AttributeError",
     "evalue": "'DataFrame' object has no attribute 'county'",
     "output_type": "error",
     "traceback": [
      "\u001b[0;31m---------------------------------------------------------------------------\u001b[0m",
      "\u001b[0;31mAttributeError\u001b[0m                            Traceback (most recent call last)",
      "Input \u001b[0;32mIn [53]\u001b[0m, in \u001b[0;36m<cell line: 1>\u001b[0;34m()\u001b[0m\n\u001b[0;32m----> 1\u001b[0m \u001b[43mfeature_engineering\u001b[49m\u001b[43m(\u001b[49m\u001b[43mtest_df\u001b[49m\u001b[43m)\u001b[49m\n",
      "Input \u001b[0;32mIn [15]\u001b[0m, in \u001b[0;36mfeature_engineering\u001b[0;34m(df)\u001b[0m\n\u001b[1;32m      4\u001b[0m df[\u001b[38;5;124m'\u001b[39m\u001b[38;5;124myear\u001b[39m\u001b[38;5;124m'\u001b[39m] \u001b[38;5;241m=\u001b[39m df\u001b[38;5;241m.\u001b[39mfirst_day_of_month\u001b[38;5;241m.\u001b[39mdt\u001b[38;5;241m.\u001b[39myear\n\u001b[1;32m      5\u001b[0m df[\u001b[38;5;124m'\u001b[39m\u001b[38;5;124myyyymm\u001b[39m\u001b[38;5;124m'\u001b[39m] \u001b[38;5;241m=\u001b[39m df\u001b[38;5;241m.\u001b[39mfirst_day_of_month\u001b[38;5;241m.\u001b[39mdt\u001b[38;5;241m.\u001b[39myear\u001b[38;5;241m*\u001b[39m\u001b[38;5;241m100\u001b[39m \u001b[38;5;241m+\u001b[39m df\u001b[38;5;241m.\u001b[39mfirst_day_of_month\u001b[38;5;241m.\u001b[39mdt\u001b[38;5;241m.\u001b[39mmonth\n\u001b[0;32m----> 6\u001b[0m df\u001b[38;5;241m.\u001b[39mcounty \u001b[38;5;241m=\u001b[39m pd\u001b[38;5;241m.\u001b[39mCategorical(\u001b[43mdf\u001b[49m\u001b[38;5;241;43m.\u001b[39;49m\u001b[43mcounty\u001b[49m)\n\u001b[1;32m      7\u001b[0m df\u001b[38;5;241m.\u001b[39mstate \u001b[38;5;241m=\u001b[39m pd\u001b[38;5;241m.\u001b[39mCategorical(df\u001b[38;5;241m.\u001b[39mstate)\n",
      "File \u001b[0;32m/usr/local/lib/python3.9/dist-packages/pandas/core/generic.py:5575\u001b[0m, in \u001b[0;36mNDFrame.__getattr__\u001b[0;34m(self, name)\u001b[0m\n\u001b[1;32m   5568\u001b[0m \u001b[38;5;28;01mif\u001b[39;00m (\n\u001b[1;32m   5569\u001b[0m     name \u001b[38;5;129;01mnot\u001b[39;00m \u001b[38;5;129;01min\u001b[39;00m \u001b[38;5;28mself\u001b[39m\u001b[38;5;241m.\u001b[39m_internal_names_set\n\u001b[1;32m   5570\u001b[0m     \u001b[38;5;129;01mand\u001b[39;00m name \u001b[38;5;129;01mnot\u001b[39;00m \u001b[38;5;129;01min\u001b[39;00m \u001b[38;5;28mself\u001b[39m\u001b[38;5;241m.\u001b[39m_metadata\n\u001b[1;32m   5571\u001b[0m     \u001b[38;5;129;01mand\u001b[39;00m name \u001b[38;5;129;01mnot\u001b[39;00m \u001b[38;5;129;01min\u001b[39;00m \u001b[38;5;28mself\u001b[39m\u001b[38;5;241m.\u001b[39m_accessors\n\u001b[1;32m   5572\u001b[0m     \u001b[38;5;129;01mand\u001b[39;00m \u001b[38;5;28mself\u001b[39m\u001b[38;5;241m.\u001b[39m_info_axis\u001b[38;5;241m.\u001b[39m_can_hold_identifiers_and_holds_name(name)\n\u001b[1;32m   5573\u001b[0m ):\n\u001b[1;32m   5574\u001b[0m     \u001b[38;5;28;01mreturn\u001b[39;00m \u001b[38;5;28mself\u001b[39m[name]\n\u001b[0;32m-> 5575\u001b[0m \u001b[38;5;28;01mreturn\u001b[39;00m \u001b[38;5;28;43mobject\u001b[39;49m\u001b[38;5;241;43m.\u001b[39;49m\u001b[38;5;21;43m__getattribute__\u001b[39;49m\u001b[43m(\u001b[49m\u001b[38;5;28;43mself\u001b[39;49m\u001b[43m,\u001b[49m\u001b[43m \u001b[49m\u001b[43mname\u001b[49m\u001b[43m)\u001b[49m\n",
      "\u001b[0;31mAttributeError\u001b[0m: 'DataFrame' object has no attribute 'county'"
     ]
    }
   ],
   "source": [
    "feature_engineering(test_df)"
   ]
  },
  {
   "cell_type": "code",
   "execution_count": null,
   "id": "7c07e393",
   "metadata": {
    "papermill": {
     "duration": 0.734036,
     "end_time": "2022-06-19T06:56:59.132667",
     "exception": false,
     "start_time": "2022-06-19T06:56:58.398631",
     "status": "completed"
    },
    "tags": []
   },
   "outputs": [],
   "source": [
    "ss['label'] = results\n",
    "ss.to_csv('subm.csv', index=False)\n",
    "!head subm.csv"
   ]
  },
  {
   "cell_type": "markdown",
   "id": "a2808f38",
   "metadata": {
    "papermill": {
     "duration": 0.01679,
     "end_time": "2022-06-19T06:56:59.167061",
     "exception": false,
     "start_time": "2022-06-19T06:56:59.150271",
     "status": "completed"
    },
    "tags": []
   },
   "source": [
    "Let's submit this to kaggle. We can do it from the notebook if we're running on Kaggle, otherwise we can use the API:"
   ]
  },
  {
   "cell_type": "code",
   "execution_count": null,
   "id": "25d822f6",
   "metadata": {
    "papermill": {
     "duration": 0.024997,
     "end_time": "2022-06-19T06:56:59.208125",
     "exception": false,
     "start_time": "2022-06-19T06:56:59.183128",
     "status": "completed"
    },
    "tags": []
   },
   "outputs": [],
   "source": [
    "if not iskaggle:\n",
    "    from kaggle import api\n",
    "    api.competition_submit_cli('subm.csv', 'initial rn26d 128px', comp)"
   ]
  },
  {
   "cell_type": "markdown",
   "id": "bfe066cd",
   "metadata": {
    "papermill": {
     "duration": 0.016558,
     "end_time": "2022-06-19T06:56:59.241385",
     "exception": false,
     "start_time": "2022-06-19T06:56:59.224827",
     "status": "completed"
    },
    "tags": []
   },
   "source": [
    "Success! We successfully created a submission."
   ]
  },
  {
   "cell_type": "markdown",
   "id": "289d4ad8",
   "metadata": {
    "papermill": {
     "duration": 0.015795,
     "end_time": "2022-06-19T06:56:59.273210",
     "exception": false,
     "start_time": "2022-06-19T06:56:59.257415",
     "status": "completed"
    },
    "tags": []
   },
   "source": [
    "## Conclusion"
   ]
  },
  {
   "cell_type": "markdown",
   "id": "b5a1381c",
   "metadata": {
    "papermill": {
     "duration": 0.015885,
     "end_time": "2022-06-19T06:56:59.338081",
     "exception": false,
     "start_time": "2022-06-19T06:56:59.322196",
     "status": "completed"
    },
    "tags": []
   },
   "source": [
    "## Addendum"
   ]
  },
  {
   "cell_type": "markdown",
   "id": "becb4e7e",
   "metadata": {
    "papermill": {
     "duration": 0.016134,
     "end_time": "2022-06-19T06:56:59.370344",
     "exception": false,
     "start_time": "2022-06-19T06:56:59.354210",
     "status": "completed"
    },
    "tags": []
   },
   "source": [
    "`fastkaggle` also provides a function that pushes a notebook to Kaggle Notebooks. I wrote this notebook on my own machine, and pushed it to Kaggle from there -- here's the command I used:"
   ]
  },
  {
   "cell_type": "code",
   "execution_count": null,
   "id": "8b4ecc28",
   "metadata": {
    "papermill": {
     "duration": 0.024203,
     "end_time": "2022-06-19T06:56:59.411272",
     "exception": false,
     "start_time": "2022-06-19T06:56:59.387069",
     "status": "completed"
    },
    "tags": []
   },
   "outputs": [],
   "source": [
    "if not iskaggle:\n",
    "    push_notebook('madhaowagh', 'first-steps-road-to-the-top-part-1',\n",
    "                  title='First Steps: Road to the Top, Part 1',\n",
    "                  file='first-steps-road-to-the-top-part-1.ipynb',\n",
    "                  competition=comp, private=False, gpu=True)"
   ]
  },
  {
   "cell_type": "code",
   "execution_count": null,
   "id": "37d70d62",
   "metadata": {
    "papermill": {
     "duration": 0.015981,
     "end_time": "2022-06-19T06:56:59.444216",
     "exception": false,
     "start_time": "2022-06-19T06:56:59.428235",
     "status": "completed"
    },
    "tags": []
   },
   "outputs": [],
   "source": []
  }
 ],
 "metadata": {
  "kernelspec": {
   "display_name": "Python 3 (ipykernel)",
   "language": "python",
   "name": "python3"
  },
  "language_info": {
   "codemirror_mode": {
    "name": "ipython",
    "version": 3
   },
   "file_extension": ".py",
   "mimetype": "text/x-python",
   "name": "python",
   "nbconvert_exporter": "python",
   "pygments_lexer": "ipython3",
   "version": "3.9.13"
  },
  "papermill": {
   "default_parameters": {},
   "duration": 655.577164,
   "end_time": "2022-06-19T06:57:03.150817",
   "environment_variables": {},
   "exception": null,
   "input_path": "__notebook__.ipynb",
   "output_path": "__notebook__.ipynb",
   "parameters": {},
   "start_time": "2022-06-19T06:46:07.573653",
   "version": "2.3.4"
  }
 },
 "nbformat": 4,
 "nbformat_minor": 5
}
