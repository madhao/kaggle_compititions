{
 "cells": [
  {
   "cell_type": "code",
   "execution_count": 1,
   "id": "273b7072",
   "metadata": {
    "_kg_hide-input": true,
    "_kg_hide-output": true,
    "papermill": {
     "duration": 11.117686,
     "end_time": "2022-06-19T06:46:26.661531",
     "exception": false,
     "start_time": "2022-06-19T06:46:15.543845",
     "status": "completed"
    },
    "tags": []
   },
   "outputs": [],
   "source": [
    "# install fastkaggle if not available\n",
    "try: import fastkaggle\n",
    "except ModuleNotFoundError:\n",
    "    !pip install -Uq fastkaggle\n",
    "\n",
    "from fastkaggle import *"
   ]
  },
  {
   "cell_type": "markdown",
   "id": "70a9db39",
   "metadata": {
    "papermill": {
     "duration": 0.007127,
     "end_time": "2022-06-19T06:46:26.707141",
     "exception": false,
     "start_time": "2022-06-19T06:46:26.700014",
     "status": "completed"
    },
    "tags": []
   },
   "source": [
    "## Getting set up"
   ]
  },
  {
   "cell_type": "code",
   "execution_count": 2,
   "id": "365b3837",
   "metadata": {
    "_kg_hide-output": true,
    "papermill": {
     "duration": 18.907053,
     "end_time": "2022-06-19T06:46:45.636399",
     "exception": false,
     "start_time": "2022-06-19T06:46:26.729346",
     "status": "completed"
    },
    "tags": []
   },
   "outputs": [],
   "source": [
    "comp = 'paddy-disease-classification'\n",
    "\n",
    "path = setup_comp(comp, install='fastai \"timm>=0.6.2.dev0\"')"
   ]
  },
  {
   "cell_type": "code",
   "execution_count": 4,
   "id": "bffccc9a",
   "metadata": {
    "papermill": {
     "duration": 0.019736,
     "end_time": "2022-06-19T06:46:45.664566",
     "exception": false,
     "start_time": "2022-06-19T06:46:45.644830",
     "status": "completed"
    },
    "tags": []
   },
   "outputs": [
    {
     "data": {
      "text/plain": [
       "Path('paddy-disease-classification')"
      ]
     },
     "execution_count": 4,
     "metadata": {},
     "output_type": "execute_result"
    }
   ],
   "source": [
    "path"
   ]
  },
  {
   "cell_type": "markdown",
   "id": "aa802ff1",
   "metadata": {
    "papermill": {
     "duration": 0.008063,
     "end_time": "2022-06-19T06:46:45.680826",
     "exception": false,
     "start_time": "2022-06-19T06:46:45.672763",
     "status": "completed"
    },
    "tags": []
   },
   "source": [
    "Now we can import the stuff we'll need from fastai, set a seed (for reproducibility -- just for the purposes of making this notebook easier to write; I don't recommend doing that in your own analysis however) and check what's in the data:"
   ]
  },
  {
   "cell_type": "code",
   "execution_count": 5,
   "id": "c135f314",
   "metadata": {
    "papermill": {
     "duration": 7.247365,
     "end_time": "2022-06-19T06:46:52.936430",
     "exception": false,
     "start_time": "2022-06-19T06:46:45.689065",
     "status": "completed"
    },
    "tags": []
   },
   "outputs": [
    {
     "data": {
      "text/plain": [
       "(#4) [Path('paddy-disease-classification/sample_submission.csv'),Path('paddy-disease-classification/test_images'),Path('paddy-disease-classification/train_images'),Path('paddy-disease-classification/train.csv')]"
      ]
     },
     "execution_count": 5,
     "metadata": {},
     "output_type": "execute_result"
    }
   ],
   "source": [
    "from fastai.vision.all import *\n",
    "set_seed(42)\n",
    "\n",
    "path.ls()"
   ]
  },
  {
   "cell_type": "markdown",
   "id": "3ccfaffc",
   "metadata": {
    "papermill": {
     "duration": 0.013539,
     "end_time": "2022-06-19T06:46:52.964159",
     "exception": false,
     "start_time": "2022-06-19T06:46:52.950620",
     "status": "completed"
    },
    "tags": []
   },
   "source": [
    "## Looking at the data"
   ]
  },
  {
   "cell_type": "markdown",
   "id": "a76068b6",
   "metadata": {
    "papermill": {
     "duration": 0.01369,
     "end_time": "2022-06-19T06:48:08.965076",
     "exception": false,
     "start_time": "2022-06-19T06:48:08.951386",
     "status": "completed"
    },
    "tags": []
   },
   "source": [
    "## Our first model"
   ]
  },
  {
   "cell_type": "markdown",
   "id": "2837981e",
   "metadata": {
    "papermill": {
     "duration": 0.014492,
     "end_time": "2022-06-19T06:56:20.889432",
     "exception": false,
     "start_time": "2022-06-19T06:56:20.874940",
     "status": "completed"
    },
    "tags": []
   },
   "source": [
    "## Submitting to Kaggle"
   ]
  },
  {
   "cell_type": "code",
   "execution_count": 13,
   "id": "491aba35",
   "metadata": {
    "papermill": {
     "duration": 0.044652,
     "end_time": "2022-06-19T06:56:20.948985",
     "exception": false,
     "start_time": "2022-06-19T06:56:20.904333",
     "status": "completed"
    },
    "tags": []
   },
   "outputs": [
    {
     "data": {
      "text/html": [
       "<div>\n",
       "<style scoped>\n",
       "    .dataframe tbody tr th:only-of-type {\n",
       "        vertical-align: middle;\n",
       "    }\n",
       "\n",
       "    .dataframe tbody tr th {\n",
       "        vertical-align: top;\n",
       "    }\n",
       "\n",
       "    .dataframe thead th {\n",
       "        text-align: right;\n",
       "    }\n",
       "</style>\n",
       "<table border=\"1\" class=\"dataframe\">\n",
       "  <thead>\n",
       "    <tr style=\"text-align: right;\">\n",
       "      <th></th>\n",
       "      <th>image_id</th>\n",
       "      <th>label</th>\n",
       "    </tr>\n",
       "  </thead>\n",
       "  <tbody>\n",
       "    <tr>\n",
       "      <th>0</th>\n",
       "      <td>200001.jpg</td>\n",
       "      <td>NaN</td>\n",
       "    </tr>\n",
       "    <tr>\n",
       "      <th>1</th>\n",
       "      <td>200002.jpg</td>\n",
       "      <td>NaN</td>\n",
       "    </tr>\n",
       "    <tr>\n",
       "      <th>2</th>\n",
       "      <td>200003.jpg</td>\n",
       "      <td>NaN</td>\n",
       "    </tr>\n",
       "    <tr>\n",
       "      <th>3</th>\n",
       "      <td>200004.jpg</td>\n",
       "      <td>NaN</td>\n",
       "    </tr>\n",
       "    <tr>\n",
       "      <th>4</th>\n",
       "      <td>200005.jpg</td>\n",
       "      <td>NaN</td>\n",
       "    </tr>\n",
       "    <tr>\n",
       "      <th>...</th>\n",
       "      <td>...</td>\n",
       "      <td>...</td>\n",
       "    </tr>\n",
       "    <tr>\n",
       "      <th>3464</th>\n",
       "      <td>203465.jpg</td>\n",
       "      <td>NaN</td>\n",
       "    </tr>\n",
       "    <tr>\n",
       "      <th>3465</th>\n",
       "      <td>203466.jpg</td>\n",
       "      <td>NaN</td>\n",
       "    </tr>\n",
       "    <tr>\n",
       "      <th>3466</th>\n",
       "      <td>203467.jpg</td>\n",
       "      <td>NaN</td>\n",
       "    </tr>\n",
       "    <tr>\n",
       "      <th>3467</th>\n",
       "      <td>203468.jpg</td>\n",
       "      <td>NaN</td>\n",
       "    </tr>\n",
       "    <tr>\n",
       "      <th>3468</th>\n",
       "      <td>203469.jpg</td>\n",
       "      <td>NaN</td>\n",
       "    </tr>\n",
       "  </tbody>\n",
       "</table>\n",
       "<p>3469 rows × 2 columns</p>\n",
       "</div>"
      ],
      "text/plain": [
       "        image_id  label\n",
       "0     200001.jpg    NaN\n",
       "1     200002.jpg    NaN\n",
       "2     200003.jpg    NaN\n",
       "3     200004.jpg    NaN\n",
       "4     200005.jpg    NaN\n",
       "...          ...    ...\n",
       "3464  203465.jpg    NaN\n",
       "3465  203466.jpg    NaN\n",
       "3466  203467.jpg    NaN\n",
       "3467  203468.jpg    NaN\n",
       "3468  203469.jpg    NaN\n",
       "\n",
       "[3469 rows x 2 columns]"
      ]
     },
     "execution_count": 13,
     "metadata": {},
     "output_type": "execute_result"
    }
   ],
   "source": [
    "ss = pd.read_csv(path/'sample_submission.csv')\n",
    "ss"
   ]
  },
  {
   "cell_type": "code",
   "execution_count": null,
   "id": "7c07e393",
   "metadata": {
    "papermill": {
     "duration": 0.734036,
     "end_time": "2022-06-19T06:56:59.132667",
     "exception": false,
     "start_time": "2022-06-19T06:56:58.398631",
     "status": "completed"
    },
    "tags": []
   },
   "outputs": [],
   "source": [
    "ss['label'] = results\n",
    "ss.to_csv('subm.csv', index=False)\n",
    "!head subm.csv"
   ]
  },
  {
   "cell_type": "markdown",
   "id": "a2808f38",
   "metadata": {
    "papermill": {
     "duration": 0.01679,
     "end_time": "2022-06-19T06:56:59.167061",
     "exception": false,
     "start_time": "2022-06-19T06:56:59.150271",
     "status": "completed"
    },
    "tags": []
   },
   "source": [
    "Let's submit this to kaggle. We can do it from the notebook if we're running on Kaggle, otherwise we can use the API:"
   ]
  },
  {
   "cell_type": "code",
   "execution_count": null,
   "id": "25d822f6",
   "metadata": {
    "papermill": {
     "duration": 0.024997,
     "end_time": "2022-06-19T06:56:59.208125",
     "exception": false,
     "start_time": "2022-06-19T06:56:59.183128",
     "status": "completed"
    },
    "tags": []
   },
   "outputs": [],
   "source": [
    "if not iskaggle:\n",
    "    from kaggle import api\n",
    "    api.competition_submit_cli('subm.csv', 'initial rn26d 128px', comp)"
   ]
  },
  {
   "cell_type": "markdown",
   "id": "bfe066cd",
   "metadata": {
    "papermill": {
     "duration": 0.016558,
     "end_time": "2022-06-19T06:56:59.241385",
     "exception": false,
     "start_time": "2022-06-19T06:56:59.224827",
     "status": "completed"
    },
    "tags": []
   },
   "source": [
    "Success! We successfully created a submission."
   ]
  },
  {
   "cell_type": "markdown",
   "id": "289d4ad8",
   "metadata": {
    "papermill": {
     "duration": 0.015795,
     "end_time": "2022-06-19T06:56:59.273210",
     "exception": false,
     "start_time": "2022-06-19T06:56:59.257415",
     "status": "completed"
    },
    "tags": []
   },
   "source": [
    "## Conclusion"
   ]
  },
  {
   "cell_type": "markdown",
   "id": "b5a1381c",
   "metadata": {
    "papermill": {
     "duration": 0.015885,
     "end_time": "2022-06-19T06:56:59.338081",
     "exception": false,
     "start_time": "2022-06-19T06:56:59.322196",
     "status": "completed"
    },
    "tags": []
   },
   "source": [
    "## Addendum"
   ]
  },
  {
   "cell_type": "markdown",
   "id": "becb4e7e",
   "metadata": {
    "papermill": {
     "duration": 0.016134,
     "end_time": "2022-06-19T06:56:59.370344",
     "exception": false,
     "start_time": "2022-06-19T06:56:59.354210",
     "status": "completed"
    },
    "tags": []
   },
   "source": [
    "`fastkaggle` also provides a function that pushes a notebook to Kaggle Notebooks. I wrote this notebook on my own machine, and pushed it to Kaggle from there -- here's the command I used:"
   ]
  },
  {
   "cell_type": "code",
   "execution_count": null,
   "id": "8b4ecc28",
   "metadata": {
    "papermill": {
     "duration": 0.024203,
     "end_time": "2022-06-19T06:56:59.411272",
     "exception": false,
     "start_time": "2022-06-19T06:56:59.387069",
     "status": "completed"
    },
    "tags": []
   },
   "outputs": [],
   "source": [
    "if not iskaggle:\n",
    "    push_notebook('madhaowagh', 'first-steps-road-to-the-top-part-1',\n",
    "                  title='First Steps: Road to the Top, Part 1',\n",
    "                  file='first-steps-road-to-the-top-part-1.ipynb',\n",
    "                  competition=comp, private=False, gpu=True)"
   ]
  },
  {
   "cell_type": "code",
   "execution_count": null,
   "id": "37d70d62",
   "metadata": {
    "papermill": {
     "duration": 0.015981,
     "end_time": "2022-06-19T06:56:59.444216",
     "exception": false,
     "start_time": "2022-06-19T06:56:59.428235",
     "status": "completed"
    },
    "tags": []
   },
   "outputs": [],
   "source": []
  }
 ],
 "metadata": {
  "kernelspec": {
   "display_name": "Python 3 (ipykernel)",
   "language": "python",
   "name": "python3"
  },
  "language_info": {
   "codemirror_mode": {
    "name": "ipython",
    "version": 3
   },
   "file_extension": ".py",
   "mimetype": "text/x-python",
   "name": "python",
   "nbconvert_exporter": "python",
   "pygments_lexer": "ipython3",
   "version": "3.9.13"
  },
  "papermill": {
   "default_parameters": {},
   "duration": 655.577164,
   "end_time": "2022-06-19T06:57:03.150817",
   "environment_variables": {},
   "exception": null,
   "input_path": "__notebook__.ipynb",
   "output_path": "__notebook__.ipynb",
   "parameters": {},
   "start_time": "2022-06-19T06:46:07.573653",
   "version": "2.3.4"
  }
 },
 "nbformat": 4,
 "nbformat_minor": 5
}
