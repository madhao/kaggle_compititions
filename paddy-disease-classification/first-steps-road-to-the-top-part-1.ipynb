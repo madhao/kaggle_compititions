{
 "cells": [
  {
   "cell_type": "code",
   "execution_count": 1,
   "id": "273b7072",
   "metadata": {
    "_kg_hide-input": true,
    "_kg_hide-output": true,
    "execution": {
     "iopub.execute_input": "2022-06-19T06:46:15.554175Z",
     "iopub.status.busy": "2022-06-19T06:46:15.553657Z",
     "iopub.status.idle": "2022-06-19T06:46:26.659154Z",
     "shell.execute_reply": "2022-06-19T06:46:26.658273Z"
    },
    "papermill": {
     "duration": 11.117686,
     "end_time": "2022-06-19T06:46:26.661531",
     "exception": false,
     "start_time": "2022-06-19T06:46:15.543845",
     "status": "completed"
    },
    "tags": []
   },
   "outputs": [],
   "source": [
    "# install fastkaggle if not available\n",
    "try: import fastkaggle\n",
    "except ModuleNotFoundError:\n",
    "    !pip install -Uq fastkaggle\n",
    "\n",
    "from fastkaggle import *"
   ]
  },
  {
   "cell_type": "markdown",
   "id": "b4ffe377",
   "metadata": {
    "papermill": {
     "duration": 0.007654,
     "end_time": "2022-06-19T06:46:26.677137",
     "exception": false,
     "start_time": "2022-06-19T06:46:26.669483",
     "status": "completed"
    },
    "tags": []
   },
   "source": [
    "In [Iterate Like a Grandmaster](https://www.kaggle.com/code/jhoward/iterate-like-a-grandmaster) I explained that when working on a Kaggle project:\n",
    "\n",
    "> ...the focus generally should be two things:\n",
    "> \n",
    "> 1. Creating an effective validation set\n",
    "> 2. Iterating rapidly to find changes which improve results on the validation set.\n",
    "\n",
    "Here I'm going to go further, showing the process I used to tackle the [Paddy Doctor](https://www.kaggle.com/competitions/paddy-disease-classification) competition, leading to four submissions in a row which all were (at the time of submission) in 1st place, each one more accurate than the last. You might be surprised to discover that the process of doing this was nearly entirely mechanistic and didn't involve any consideration of the actual data or evaluation details at all.\n",
    "\n",
    "This notebook is the first in a series showing every step of the process. At the end of this notebook we'll have a basic submission; by the end of the series you'll see how I got to the top of the table!:\n",
    "\n",
    "<img src=\"https://user-images.githubusercontent.com/346999/174389920-60d67ead-0f36-41d0-9649-e23b08720c8a.png\" width=\"600\"/>"
   ]
  },
  {
   "cell_type": "markdown",
   "id": "ed1fc7e9",
   "metadata": {
    "papermill": {
     "duration": 0.007128,
     "end_time": "2022-06-19T06:46:26.691870",
     "exception": false,
     "start_time": "2022-06-19T06:46:26.684742",
     "status": "completed"
    },
    "tags": []
   },
   "source": [
    "As a special extra, I'm also opening up early a selection of \"walkthru\" videos that we've been preparing for the new upcoming fast.ai course. Each day I do a walkthru with fast.ai fellows and registered students, and we record those sessions. They'll all be released at the same time as the next course (probably August 2022), but I'm releasing the ones covering this competition right now! Here they are:\n",
    "\n",
    "- [Walkthru 8](https://www.youtube.com/watch?v=-Scs4gbwWXg)\n",
    "- [Walkthru 9](https://www.youtube.com/watch?v=EK5wJRzffas)\n",
    "- [Walkthru 10](https://youtu.be/zhBRynq9Yvo)\n",
    "- [Walkthru 11](https://youtu.be/j-zMF2VirA8)\n",
    "- [Walkthru 12](https://youtu.be/GuCkpjXHdTc)\n",
    "- [Walkthru 13](https://youtu.be/INrkhUGCXHg)\n",
    "\n",
    "When you're done with this notebook, take a look at [part 2 of the series](https://www.kaggle.com/code/jhoward/small-models-road-to-the-top-part-2/)."
   ]
  },
  {
   "cell_type": "markdown",
   "id": "70a9db39",
   "metadata": {
    "papermill": {
     "duration": 0.007127,
     "end_time": "2022-06-19T06:46:26.707141",
     "exception": false,
     "start_time": "2022-06-19T06:46:26.700014",
     "status": "completed"
    },
    "tags": []
   },
   "source": [
    "## Getting set up"
   ]
  },
  {
   "cell_type": "markdown",
   "id": "eb8f54f4",
   "metadata": {
    "papermill": {
     "duration": 0.007182,
     "end_time": "2022-06-19T06:46:26.721962",
     "exception": false,
     "start_time": "2022-06-19T06:46:26.714780",
     "status": "completed"
    },
    "tags": []
   },
   "source": [
    "First, we'll get the data. I've just created a new library called [fastkaggle](https://fastai.github.io/fastkaggle/) which has a few handy features, including getting the data for a competition correctly regardless of whether we're running on Kaggle or elsewhere. Note you'll need to first accept the competition rules and join the competition, and you'll need your kaggle API key file `kaggle.json` downloaded if you're running this somewhere other than on Kaggle. `setup_comp` is the function we use in `fastkaggle` to grab the data, and install or upgrade our needed python modules when we're running on Kaggle:"
   ]
  },
  {
   "cell_type": "code",
   "execution_count": 2,
   "id": "365b3837",
   "metadata": {
    "_kg_hide-output": true,
    "execution": {
     "iopub.execute_input": "2022-06-19T06:46:26.738882Z",
     "iopub.status.busy": "2022-06-19T06:46:26.737926Z",
     "iopub.status.idle": "2022-06-19T06:46:45.633931Z",
     "shell.execute_reply": "2022-06-19T06:46:45.631585Z"
    },
    "papermill": {
     "duration": 18.907053,
     "end_time": "2022-06-19T06:46:45.636399",
     "exception": false,
     "start_time": "2022-06-19T06:46:26.729346",
     "status": "completed"
    },
    "tags": []
   },
   "outputs": [
    {
     "name": "stdout",
     "output_type": "stream",
     "text": [
      "Downloading paddy-disease-classification.zip to /Users/madhaowagh/Desktop/code/kaggle_compititions/kaggle_compititions/paddy-disease-classification/code\n"
     ]
    },
    {
     "name": "stderr",
     "output_type": "stream",
     "text": [
      "100%|██████████████████████████████████████████████████████████████████████████████████████████████████████████████████████████████████████████████████████████████████| 1.02G/1.02G [00:32<00:00, 33.4MB/s]\n"
     ]
    },
    {
     "name": "stdout",
     "output_type": "stream",
     "text": [
      "\n"
     ]
    }
   ],
   "source": [
    "comp = 'paddy-disease-classification'\n",
    "\n",
    "path = setup_comp(comp, install='fastai \"timm>=0.6.2.dev0\"')"
   ]
  },
  {
   "cell_type": "code",
   "execution_count": 3,
   "id": "f4fbac3f",
   "metadata": {},
   "outputs": [
    {
     "name": "stdout",
     "output_type": "stream",
     "text": [
      "Help on function setup_comp in module fastkaggle.core:\n",
      "\n",
      "setup_comp(competition, install='')\n",
      "    Get a path to data for `competition`, downloading it if needed\n",
      "\n"
     ]
    }
   ],
   "source": [
    "help(setup_comp)"
   ]
  },
  {
   "cell_type": "code",
   "execution_count": 4,
   "id": "bffccc9a",
   "metadata": {
    "execution": {
     "iopub.execute_input": "2022-06-19T06:46:45.653573Z",
     "iopub.status.busy": "2022-06-19T06:46:45.653261Z",
     "iopub.status.idle": "2022-06-19T06:46:45.661548Z",
     "shell.execute_reply": "2022-06-19T06:46:45.660629Z"
    },
    "papermill": {
     "duration": 0.019736,
     "end_time": "2022-06-19T06:46:45.664566",
     "exception": false,
     "start_time": "2022-06-19T06:46:45.644830",
     "status": "completed"
    },
    "tags": []
   },
   "outputs": [
    {
     "data": {
      "text/plain": [
       "Path('paddy-disease-classification')"
      ]
     },
     "execution_count": 4,
     "metadata": {},
     "output_type": "execute_result"
    }
   ],
   "source": [
    "path"
   ]
  },
  {
   "cell_type": "markdown",
   "id": "aa802ff1",
   "metadata": {
    "papermill": {
     "duration": 0.008063,
     "end_time": "2022-06-19T06:46:45.680826",
     "exception": false,
     "start_time": "2022-06-19T06:46:45.672763",
     "status": "completed"
    },
    "tags": []
   },
   "source": [
    "Now we can import the stuff we'll need from fastai, set a seed (for reproducibility -- just for the purposes of making this notebook easier to write; I don't recommend doing that in your own analysis however) and check what's in the data:"
   ]
  },
  {
   "cell_type": "code",
   "execution_count": null,
   "id": "c135f314",
   "metadata": {
    "execution": {
     "iopub.execute_input": "2022-06-19T06:46:45.698823Z",
     "iopub.status.busy": "2022-06-19T06:46:45.698114Z",
     "iopub.status.idle": "2022-06-19T06:46:52.934545Z",
     "shell.execute_reply": "2022-06-19T06:46:52.933455Z"
    },
    "papermill": {
     "duration": 7.247365,
     "end_time": "2022-06-19T06:46:52.936430",
     "exception": false,
     "start_time": "2022-06-19T06:46:45.689065",
     "status": "completed"
    },
    "tags": []
   },
   "outputs": [],
   "source": [
    "from fastai.vision.all import *\n",
    "set_seed(42)\n",
    "\n",
    "path.ls()"
   ]
  },
  {
   "cell_type": "markdown",
   "id": "3ccfaffc",
   "metadata": {
    "papermill": {
     "duration": 0.013539,
     "end_time": "2022-06-19T06:46:52.964159",
     "exception": false,
     "start_time": "2022-06-19T06:46:52.950620",
     "status": "completed"
    },
    "tags": []
   },
   "source": [
    "## Looking at the data"
   ]
  },
  {
   "cell_type": "markdown",
   "id": "931cfbcb",
   "metadata": {
    "papermill": {
     "duration": 0.007579,
     "end_time": "2022-06-19T06:46:52.979691",
     "exception": false,
     "start_time": "2022-06-19T06:46:52.972112",
     "status": "completed"
    },
    "tags": []
   },
   "source": [
    "The images are in `train_images`, so let's grab a list of all of them:"
   ]
  },
  {
   "cell_type": "code",
   "execution_count": null,
   "id": "d17251a7",
   "metadata": {
    "execution": {
     "iopub.execute_input": "2022-06-19T06:46:52.997561Z",
     "iopub.status.busy": "2022-06-19T06:46:52.996757Z",
     "iopub.status.idle": "2022-06-19T06:46:55.232822Z",
     "shell.execute_reply": "2022-06-19T06:46:55.231885Z"
    },
    "papermill": {
     "duration": 2.247996,
     "end_time": "2022-06-19T06:46:55.235541",
     "exception": false,
     "start_time": "2022-06-19T06:46:52.987545",
     "status": "completed"
    },
    "tags": []
   },
   "outputs": [],
   "source": [
    "trn_path = path/'train_images'\n",
    "files = get_image_files(trn_path)"
   ]
  },
  {
   "cell_type": "markdown",
   "id": "a5c432a4",
   "metadata": {
    "papermill": {
     "duration": 0.014996,
     "end_time": "2022-06-19T06:46:55.269447",
     "exception": false,
     "start_time": "2022-06-19T06:46:55.254451",
     "status": "completed"
    },
    "tags": []
   },
   "source": [
    "...and take a look at one:"
   ]
  },
  {
   "cell_type": "code",
   "execution_count": null,
   "id": "a90fe15f",
   "metadata": {
    "execution": {
     "iopub.execute_input": "2022-06-19T06:46:55.301345Z",
     "iopub.status.busy": "2022-06-19T06:46:55.301023Z",
     "iopub.status.idle": "2022-06-19T06:46:55.338472Z",
     "shell.execute_reply": "2022-06-19T06:46:55.337642Z"
    },
    "papermill": {
     "duration": 0.056288,
     "end_time": "2022-06-19T06:46:55.341176",
     "exception": false,
     "start_time": "2022-06-19T06:46:55.284888",
     "status": "completed"
    },
    "tags": []
   },
   "outputs": [],
   "source": [
    "img = PILImage.create(files[0])\n",
    "print(img.size)\n",
    "img.to_thumb(128)"
   ]
  },
  {
   "cell_type": "markdown",
   "id": "bd0799a4",
   "metadata": {
    "papermill": {
     "duration": 0.015165,
     "end_time": "2022-06-19T06:46:55.369865",
     "exception": false,
     "start_time": "2022-06-19T06:46:55.354700",
     "status": "completed"
    },
    "tags": []
   },
   "source": [
    "Looks like the images might be 480x640 -- let's check all their sizes. This is faster if we do it in parallel, so we'll use fastcore's `parallel` for this:"
   ]
  },
  {
   "cell_type": "code",
   "execution_count": null,
   "id": "c7f4bf6e",
   "metadata": {
    "execution": {
     "iopub.execute_input": "2022-06-19T06:46:55.397456Z",
     "iopub.status.busy": "2022-06-19T06:46:55.397108Z",
     "iopub.status.idle": "2022-06-19T06:47:57.593085Z",
     "shell.execute_reply": "2022-06-19T06:47:57.592266Z"
    },
    "papermill": {
     "duration": 62.220467,
     "end_time": "2022-06-19T06:47:57.603938",
     "exception": false,
     "start_time": "2022-06-19T06:46:55.383471",
     "status": "completed"
    },
    "tags": []
   },
   "outputs": [],
   "source": [
    "from fastcore.parallel import *\n",
    "\n",
    "def f(o): return PILImage.create(o).size\n",
    "sizes = parallel(f, files, n_workers=8)\n",
    "pd.Series(sizes).value_counts()"
   ]
  },
  {
   "cell_type": "markdown",
   "id": "2f9904b5",
   "metadata": {
    "papermill": {
     "duration": 0.009027,
     "end_time": "2022-06-19T06:47:57.621872",
     "exception": false,
     "start_time": "2022-06-19T06:47:57.612845",
     "status": "completed"
    },
    "tags": []
   },
   "source": [
    "They're nearly all the same size, except for a few. Because of those few, however, we'll need to make sure we always resize each image to common dimensions first, otherwise fastai won't be able to create batches. For now, we'll just squish them to 480x480 images, and then once they're in batches we do a random resized crop down to a smaller size, along with the other default fastai augmentations provided by `aug_transforms`. We'll start out with small resized images, since we want to be able to iterate quickly:"
   ]
  },
  {
   "cell_type": "code",
   "execution_count": null,
   "id": "63ed73ba",
   "metadata": {
    "execution": {
     "iopub.execute_input": "2022-06-19T06:47:57.641344Z",
     "iopub.status.busy": "2022-06-19T06:47:57.640943Z",
     "iopub.status.idle": "2022-06-19T06:48:08.930866Z",
     "shell.execute_reply": "2022-06-19T06:48:08.928515Z"
    },
    "papermill": {
     "duration": 11.305865,
     "end_time": "2022-06-19T06:48:08.936973",
     "exception": false,
     "start_time": "2022-06-19T06:47:57.631108",
     "status": "completed"
    },
    "tags": []
   },
   "outputs": [],
   "source": [
    "dls = ImageDataLoaders.from_folder(trn_path, valid_pct=0.2, seed=42,\n",
    "    item_tfms=Resize(480, method='squish'),\n",
    "    batch_tfms=aug_transforms(size=128, min_scale=0.75))\n",
    "\n",
    "dls.show_batch(max_n=6)"
   ]
  },
  {
   "cell_type": "markdown",
   "id": "a76068b6",
   "metadata": {
    "papermill": {
     "duration": 0.01369,
     "end_time": "2022-06-19T06:48:08.965076",
     "exception": false,
     "start_time": "2022-06-19T06:48:08.951386",
     "status": "completed"
    },
    "tags": []
   },
   "source": [
    "## Our first model"
   ]
  },
  {
   "cell_type": "markdown",
   "id": "b5d96e73",
   "metadata": {
    "papermill": {
     "duration": 0.013305,
     "end_time": "2022-06-19T06:48:08.992112",
     "exception": false,
     "start_time": "2022-06-19T06:48:08.978807",
     "status": "completed"
    },
    "tags": []
   },
   "source": [
    "Let's create a model. To pick an architecture, we should look at the options in [The best vision models for fine-tuning](https://www.kaggle.com/code/jhoward/the-best-vision-models-for-fine-tuning). I like the looks of `resnet26d`, which is the fastest resolution-independent model which gets into the top-15 lists there."
   ]
  },
  {
   "cell_type": "code",
   "execution_count": null,
   "id": "047239ca",
   "metadata": {
    "execution": {
     "iopub.execute_input": "2022-06-19T06:48:09.021674Z",
     "iopub.status.busy": "2022-06-19T06:48:09.021257Z",
     "iopub.status.idle": "2022-06-19T06:48:11.236404Z",
     "shell.execute_reply": "2022-06-19T06:48:11.235399Z"
    },
    "papermill": {
     "duration": 2.232468,
     "end_time": "2022-06-19T06:48:11.238552",
     "exception": false,
     "start_time": "2022-06-19T06:48:09.006084",
     "status": "completed"
    },
    "tags": []
   },
   "outputs": [],
   "source": [
    "learn = vision_learner(dls, 'resnet26d', metrics=error_rate, path='.').to_fp16()"
   ]
  },
  {
   "cell_type": "markdown",
   "id": "954608e8",
   "metadata": {
    "papermill": {
     "duration": 0.013868,
     "end_time": "2022-06-19T06:48:11.268035",
     "exception": false,
     "start_time": "2022-06-19T06:48:11.254167",
     "status": "completed"
    },
    "tags": []
   },
   "source": [
    "Let's see what the learning rate finder shows:"
   ]
  },
  {
   "cell_type": "code",
   "execution_count": null,
   "id": "bf64c27a",
   "metadata": {
    "execution": {
     "iopub.execute_input": "2022-06-19T06:48:11.298207Z",
     "iopub.status.busy": "2022-06-19T06:48:11.297471Z",
     "iopub.status.idle": "2022-06-19T06:49:17.689061Z",
     "shell.execute_reply": "2022-06-19T06:49:17.688233Z"
    },
    "papermill": {
     "duration": 66.4085,
     "end_time": "2022-06-19T06:49:17.691014",
     "exception": false,
     "start_time": "2022-06-19T06:48:11.282514",
     "status": "completed"
    },
    "tags": []
   },
   "outputs": [],
   "source": [
    "learn.lr_find(suggest_funcs=(valley, slide))"
   ]
  },
  {
   "cell_type": "markdown",
   "id": "c79e7558",
   "metadata": {
    "papermill": {
     "duration": 0.014284,
     "end_time": "2022-06-19T06:49:17.720442",
     "exception": false,
     "start_time": "2022-06-19T06:49:17.706158",
     "status": "completed"
    },
    "tags": []
   },
   "source": [
    "`lr_find` generally recommends rather conservative learning rates, to ensure that your model will train successfully. I generally like to push it a bit higher if I can. Let's train a few epochs and see how it looks:"
   ]
  },
  {
   "cell_type": "code",
   "execution_count": null,
   "id": "0d0b5f44",
   "metadata": {
    "execution": {
     "iopub.execute_input": "2022-06-19T06:49:17.750800Z",
     "iopub.status.busy": "2022-06-19T06:49:17.750490Z",
     "iopub.status.idle": "2022-06-19T06:56:20.827226Z",
     "shell.execute_reply": "2022-06-19T06:56:20.826303Z"
    },
    "papermill": {
     "duration": 423.094336,
     "end_time": "2022-06-19T06:56:20.829169",
     "exception": false,
     "start_time": "2022-06-19T06:49:17.734833",
     "status": "completed"
    },
    "tags": []
   },
   "outputs": [],
   "source": [
    "learn.fine_tune(3, 0.01)"
   ]
  },
  {
   "cell_type": "markdown",
   "id": "3e502087",
   "metadata": {
    "papermill": {
     "duration": 0.014567,
     "end_time": "2022-06-19T06:56:20.859538",
     "exception": false,
     "start_time": "2022-06-19T06:56:20.844971",
     "status": "completed"
    },
    "tags": []
   },
   "source": [
    "We're now ready to build our first submission. Let's take a look at the sample Kaggle provided to see what it needs to look like:"
   ]
  },
  {
   "cell_type": "markdown",
   "id": "2837981e",
   "metadata": {
    "papermill": {
     "duration": 0.014492,
     "end_time": "2022-06-19T06:56:20.889432",
     "exception": false,
     "start_time": "2022-06-19T06:56:20.874940",
     "status": "completed"
    },
    "tags": []
   },
   "source": [
    "## Submitting to Kaggle"
   ]
  },
  {
   "cell_type": "code",
   "execution_count": null,
   "id": "491aba35",
   "metadata": {
    "execution": {
     "iopub.execute_input": "2022-06-19T06:56:20.921117Z",
     "iopub.status.busy": "2022-06-19T06:56:20.920760Z",
     "iopub.status.idle": "2022-06-19T06:56:20.947029Z",
     "shell.execute_reply": "2022-06-19T06:56:20.945965Z"
    },
    "papermill": {
     "duration": 0.044652,
     "end_time": "2022-06-19T06:56:20.948985",
     "exception": false,
     "start_time": "2022-06-19T06:56:20.904333",
     "status": "completed"
    },
    "tags": []
   },
   "outputs": [],
   "source": [
    "ss = pd.read_csv(path/'sample_submission.csv')\n",
    "ss"
   ]
  },
  {
   "cell_type": "markdown",
   "id": "35c43f69",
   "metadata": {
    "papermill": {
     "duration": 0.015554,
     "end_time": "2022-06-19T06:56:20.980446",
     "exception": false,
     "start_time": "2022-06-19T06:56:20.964892",
     "status": "completed"
    },
    "tags": []
   },
   "source": [
    "OK so we need a CSV containing all the test images, in alphabetical order, and the predicted label for each one. We can create the needed test set using fastai like so:"
   ]
  },
  {
   "cell_type": "code",
   "execution_count": null,
   "id": "9dd1bf99",
   "metadata": {
    "execution": {
     "iopub.execute_input": "2022-06-19T06:56:21.012283Z",
     "iopub.status.busy": "2022-06-19T06:56:21.012001Z",
     "iopub.status.idle": "2022-06-19T06:56:21.891006Z",
     "shell.execute_reply": "2022-06-19T06:56:21.890182Z"
    },
    "papermill": {
     "duration": 0.897085,
     "end_time": "2022-06-19T06:56:21.893083",
     "exception": false,
     "start_time": "2022-06-19T06:56:20.995998",
     "status": "completed"
    },
    "tags": []
   },
   "outputs": [],
   "source": [
    "tst_files = get_image_files(path/'test_images').sorted()\n",
    "tst_dl = dls.test_dl(tst_files)"
   ]
  },
  {
   "cell_type": "markdown",
   "id": "6b24e93d",
   "metadata": {
    "papermill": {
     "duration": 0.015848,
     "end_time": "2022-06-19T06:56:21.925057",
     "exception": false,
     "start_time": "2022-06-19T06:56:21.909209",
     "status": "completed"
    },
    "tags": []
   },
   "source": [
    "We can now get the probabilities of each class, and the index of the most likely class, from this test set (the 2nd thing returned by `get_preds` are the targets, which are blank for a test set, so we discard them):"
   ]
  },
  {
   "cell_type": "code",
   "execution_count": null,
   "id": "b451e5d5",
   "metadata": {
    "execution": {
     "iopub.execute_input": "2022-06-19T06:56:21.957776Z",
     "iopub.status.busy": "2022-06-19T06:56:21.957443Z",
     "iopub.status.idle": "2022-06-19T06:56:58.194073Z",
     "shell.execute_reply": "2022-06-19T06:56:58.193085Z"
    },
    "papermill": {
     "duration": 36.255628,
     "end_time": "2022-06-19T06:56:58.196084",
     "exception": false,
     "start_time": "2022-06-19T06:56:21.940456",
     "status": "completed"
    },
    "tags": []
   },
   "outputs": [],
   "source": [
    "probs,_,idxs = learn.get_preds(dl=tst_dl, with_decoded=True)\n",
    "idxs"
   ]
  },
  {
   "cell_type": "markdown",
   "id": "4b852264",
   "metadata": {
    "papermill": {
     "duration": 0.017656,
     "end_time": "2022-06-19T06:56:58.230491",
     "exception": false,
     "start_time": "2022-06-19T06:56:58.212835",
     "status": "completed"
    },
    "tags": []
   },
   "source": [
    "These need to be mapped to the names of each of these diseases, these names are stored by fastai automatically in the `vocab`:"
   ]
  },
  {
   "cell_type": "code",
   "execution_count": null,
   "id": "a140bfb8",
   "metadata": {
    "execution": {
     "iopub.execute_input": "2022-06-19T06:56:58.263681Z",
     "iopub.status.busy": "2022-06-19T06:56:58.263308Z",
     "iopub.status.idle": "2022-06-19T06:56:58.269293Z",
     "shell.execute_reply": "2022-06-19T06:56:58.268325Z"
    },
    "papermill": {
     "duration": 0.02547,
     "end_time": "2022-06-19T06:56:58.271862",
     "exception": false,
     "start_time": "2022-06-19T06:56:58.246392",
     "status": "completed"
    },
    "tags": []
   },
   "outputs": [],
   "source": [
    "dls.vocab"
   ]
  },
  {
   "cell_type": "markdown",
   "id": "85db4d5b",
   "metadata": {
    "papermill": {
     "duration": 0.015877,
     "end_time": "2022-06-19T06:56:58.303794",
     "exception": false,
     "start_time": "2022-06-19T06:56:58.287917",
     "status": "completed"
    },
    "tags": []
   },
   "source": [
    "We can create an apply this mapping using pandas:"
   ]
  },
  {
   "cell_type": "code",
   "execution_count": null,
   "id": "c4598082",
   "metadata": {
    "execution": {
     "iopub.execute_input": "2022-06-19T06:56:58.336546Z",
     "iopub.status.busy": "2022-06-19T06:56:58.336238Z",
     "iopub.status.idle": "2022-06-19T06:56:58.348764Z",
     "shell.execute_reply": "2022-06-19T06:56:58.348038Z"
    },
    "papermill": {
     "duration": 0.031039,
     "end_time": "2022-06-19T06:56:58.350538",
     "exception": false,
     "start_time": "2022-06-19T06:56:58.319499",
     "status": "completed"
    },
    "tags": []
   },
   "outputs": [],
   "source": [
    "mapping = dict(enumerate(dls.vocab))\n",
    "results = pd.Series(idxs.numpy(), name=\"idxs\").map(mapping)\n",
    "results"
   ]
  },
  {
   "cell_type": "markdown",
   "id": "95ae0646",
   "metadata": {
    "papermill": {
     "duration": 0.015656,
     "end_time": "2022-06-19T06:56:58.382634",
     "exception": false,
     "start_time": "2022-06-19T06:56:58.366978",
     "status": "completed"
    },
    "tags": []
   },
   "source": [
    "Kaggle expects the submission as a CSV file, so let's save it, and check the first few lines:"
   ]
  },
  {
   "cell_type": "code",
   "execution_count": null,
   "id": "7c07e393",
   "metadata": {
    "execution": {
     "iopub.execute_input": "2022-06-19T06:56:58.415717Z",
     "iopub.status.busy": "2022-06-19T06:56:58.415391Z",
     "iopub.status.idle": "2022-06-19T06:56:59.130678Z",
     "shell.execute_reply": "2022-06-19T06:56:59.129630Z"
    },
    "papermill": {
     "duration": 0.734036,
     "end_time": "2022-06-19T06:56:59.132667",
     "exception": false,
     "start_time": "2022-06-19T06:56:58.398631",
     "status": "completed"
    },
    "tags": []
   },
   "outputs": [],
   "source": [
    "ss['label'] = results\n",
    "ss.to_csv('subm.csv', index=False)\n",
    "!head subm.csv"
   ]
  },
  {
   "cell_type": "markdown",
   "id": "a2808f38",
   "metadata": {
    "papermill": {
     "duration": 0.01679,
     "end_time": "2022-06-19T06:56:59.167061",
     "exception": false,
     "start_time": "2022-06-19T06:56:59.150271",
     "status": "completed"
    },
    "tags": []
   },
   "source": [
    "Let's submit this to kaggle. We can do it from the notebook if we're running on Kaggle, otherwise we can use the API:"
   ]
  },
  {
   "cell_type": "code",
   "execution_count": null,
   "id": "25d822f6",
   "metadata": {
    "execution": {
     "iopub.execute_input": "2022-06-19T06:56:59.201319Z",
     "iopub.status.busy": "2022-06-19T06:56:59.200479Z",
     "iopub.status.idle": "2022-06-19T06:56:59.206448Z",
     "shell.execute_reply": "2022-06-19T06:56:59.205691Z"
    },
    "papermill": {
     "duration": 0.024997,
     "end_time": "2022-06-19T06:56:59.208125",
     "exception": false,
     "start_time": "2022-06-19T06:56:59.183128",
     "status": "completed"
    },
    "tags": []
   },
   "outputs": [],
   "source": [
    "if not iskaggle:\n",
    "    from kaggle import api\n",
    "    api.competition_submit_cli('subm.csv', 'initial rn26d 128px', comp)"
   ]
  },
  {
   "cell_type": "markdown",
   "id": "bfe066cd",
   "metadata": {
    "papermill": {
     "duration": 0.016558,
     "end_time": "2022-06-19T06:56:59.241385",
     "exception": false,
     "start_time": "2022-06-19T06:56:59.224827",
     "status": "completed"
    },
    "tags": []
   },
   "source": [
    "Success! We successfully created a submission."
   ]
  },
  {
   "cell_type": "markdown",
   "id": "289d4ad8",
   "metadata": {
    "papermill": {
     "duration": 0.015795,
     "end_time": "2022-06-19T06:56:59.273210",
     "exception": false,
     "start_time": "2022-06-19T06:56:59.257415",
     "status": "completed"
    },
    "tags": []
   },
   "source": [
    "## Conclusion"
   ]
  },
  {
   "cell_type": "markdown",
   "id": "ed2ec0ee",
   "metadata": {
    "papermill": {
     "duration": 0.016916,
     "end_time": "2022-06-19T06:56:59.306174",
     "exception": false,
     "start_time": "2022-06-19T06:56:59.289258",
     "status": "completed"
    },
    "tags": []
   },
   "source": [
    "Our initial submission is not very good (top 80% of teams) but it only took a minute to train. The important thing is that we have a good starting point to iterate from, and we can do rapid iterations. Every step from loading the data to creating the model to submitting to Kaggle is all automated and runs quickly.\n",
    "\n",
    "Therefore, we can now try lots of things quickly and easily and use those experiments to improve our results. In the next notebook, we'll do exactly that! So if you're ready, take a look at [part 2 of the series](https://www.kaggle.com/code/jhoward/small-models-road-to-the-top-part-2/).\n",
    "\n",
    "If you found this notebook useful, please remember to click the little up-arrow at the top to upvote it, since I like to know when people have found my work useful, and it helps others find it too. And if you have any questions or comments, please pop them below -- I read every comment I receive!"
   ]
  },
  {
   "cell_type": "markdown",
   "id": "b5a1381c",
   "metadata": {
    "papermill": {
     "duration": 0.015885,
     "end_time": "2022-06-19T06:56:59.338081",
     "exception": false,
     "start_time": "2022-06-19T06:56:59.322196",
     "status": "completed"
    },
    "tags": []
   },
   "source": [
    "## Addendum"
   ]
  },
  {
   "cell_type": "markdown",
   "id": "becb4e7e",
   "metadata": {
    "papermill": {
     "duration": 0.016134,
     "end_time": "2022-06-19T06:56:59.370344",
     "exception": false,
     "start_time": "2022-06-19T06:56:59.354210",
     "status": "completed"
    },
    "tags": []
   },
   "source": [
    "`fastkaggle` also provides a function that pushes a notebook to Kaggle Notebooks. I wrote this notebook on my own machine, and pushed it to Kaggle from there -- here's the command I used:"
   ]
  },
  {
   "cell_type": "code",
   "execution_count": null,
   "id": "8b4ecc28",
   "metadata": {
    "execution": {
     "iopub.execute_input": "2022-06-19T06:56:59.404689Z",
     "iopub.status.busy": "2022-06-19T06:56:59.404313Z",
     "iopub.status.idle": "2022-06-19T06:56:59.409318Z",
     "shell.execute_reply": "2022-06-19T06:56:59.408294Z"
    },
    "papermill": {
     "duration": 0.024203,
     "end_time": "2022-06-19T06:56:59.411272",
     "exception": false,
     "start_time": "2022-06-19T06:56:59.387069",
     "status": "completed"
    },
    "tags": []
   },
   "outputs": [],
   "source": [
    "if not iskaggle:\n",
    "    push_notebook('madhaowagh', 'first-steps-road-to-the-top-part-1',\n",
    "                  title='First Steps: Road to the Top, Part 1',\n",
    "                  file='first-steps-road-to-the-top-part-1.ipynb',\n",
    "                  competition=comp, private=False, gpu=True)"
   ]
  },
  {
   "cell_type": "code",
   "execution_count": null,
   "id": "37d70d62",
   "metadata": {
    "papermill": {
     "duration": 0.015981,
     "end_time": "2022-06-19T06:56:59.444216",
     "exception": false,
     "start_time": "2022-06-19T06:56:59.428235",
     "status": "completed"
    },
    "tags": []
   },
   "outputs": [],
   "source": []
  }
 ],
 "metadata": {
  "kernelspec": {
   "display_name": "kaggle",
   "language": "python",
   "name": "kaggle"
  },
  "language_info": {
   "codemirror_mode": {
    "name": "ipython",
    "version": 3
   },
   "file_extension": ".py",
   "mimetype": "text/x-python",
   "name": "python",
   "nbconvert_exporter": "python",
   "pygments_lexer": "ipython3",
   "version": "3.9.15"
  },
  "papermill": {
   "default_parameters": {},
   "duration": 655.577164,
   "end_time": "2022-06-19T06:57:03.150817",
   "environment_variables": {},
   "exception": null,
   "input_path": "__notebook__.ipynb",
   "output_path": "__notebook__.ipynb",
   "parameters": {},
   "start_time": "2022-06-19T06:46:07.573653",
   "version": "2.3.4"
  }
 },
 "nbformat": 4,
 "nbformat_minor": 5
}
